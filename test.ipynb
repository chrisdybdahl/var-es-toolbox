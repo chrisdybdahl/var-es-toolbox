{
 "cells": [
  {
   "cell_type": "code",
   "outputs": [
    {
     "name": "stderr",
     "output_type": "stream",
     "text": [
      "C:\\Users\\chris\\Anaconda\\envs\\var-es-env\\lib\\site-packages\\rpy2\\robjects\\packages.py:367: UserWarning: The symbol 'quartz' is not in this R namespace/package.\n",
      "  warnings.warn(\n"
     ]
    }
   ],
   "source": [
    "import os\n",
    "import rpy2.situation as rsetup\n",
    "os.environ[\"R_HOME\"] = rsetup.get_r_home()\n",
    "%load_ext rpy2.ipython\n",
    "import rpy2.robjects as robjects\n",
    "from rpy2.robjects import pandas2ri"
   ],
   "metadata": {
    "collapsed": false,
    "ExecuteTime": {
     "end_time": "2024-11-02T21:05:30.587368300Z",
     "start_time": "2024-11-02T21:05:28.785928700Z"
    }
   },
   "id": "b858545d482b56ea",
   "execution_count": 1
  },
  {
   "cell_type": "code",
   "outputs": [
    {
     "name": "stderr",
     "output_type": "stream",
     "text": [
      "R[write to console]: \n",
      "Attaching package: 'renv'\n",
      "\n",
      "\n",
      "R[write to console]: The following objects are masked from 'package:stats':\n",
      "\n",
      "    embed, update\n",
      "\n",
      "\n",
      "R[write to console]: The following objects are masked from 'package:utils':\n",
      "\n",
      "    history, upgrade\n",
      "\n",
      "\n",
      "R[write to console]: The following objects are masked from 'package:base':\n",
      "\n",
      "    autoload, load, remove\n",
      "\n",
      "\n"
     ]
    },
    {
     "name": "stdout",
     "output_type": "stream",
     "text": [
      "* Discovering package dependencies ... Done!\n",
      "The following package(s) will be updated in the lockfile:\n",
      "\n",
      "# CRAN ===============================\n",
      "- renv   [* -> 0.17.3]\n",
      "\n",
      "The version of R recorded in the lockfile will be updated:\n",
      "- R      [* -> 4.1.3]\n",
      "\n",
      "* Lockfile written to 'C:/Users/chris/PycharmProjects/var-es-toolbox/renv.lock'.\n",
      "* Project 'C:/Users/chris/PycharmProjects/var-es-toolbox' loaded. [renv 0.17.3]\n"
     ]
    },
    {
     "name": "stderr",
     "output_type": "stream",
     "text": [
      "R[write to console]: * renv activated -- please restart the R session.\n",
      "\n"
     ]
    }
   ],
   "source": [
    "%%R\n",
    "\n",
    "library(renv)\n",
    "renv::init()"
   ],
   "metadata": {
    "collapsed": false,
    "ExecuteTime": {
     "end_time": "2024-11-02T21:05:35.502633700Z",
     "start_time": "2024-11-02T21:05:33.826612600Z"
    }
   },
   "id": "3d47e3150f92f577",
   "execution_count": 2
  }
 ],
 "metadata": {
  "kernelspec": {
   "display_name": "Python 3",
   "language": "python",
   "name": "python3"
  },
  "language_info": {
   "codemirror_mode": {
    "name": "ipython",
    "version": 2
   },
   "file_extension": ".py",
   "mimetype": "text/x-python",
   "name": "python",
   "nbconvert_exporter": "python",
   "pygments_lexer": "ipython2",
   "version": "2.7.6"
  }
 },
 "nbformat": 4,
 "nbformat_minor": 5
}
