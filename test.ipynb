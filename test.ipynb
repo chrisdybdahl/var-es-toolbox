{
 "cells": [
  {
   "cell_type": "code",
   "outputs": [],
   "source": [
    "import os\n",
    "import rpy2.situation as rsetup\n",
    "os.environ[\"R_HOME\"] = rsetup.get_r_home()\n",
    "%load_ext rpy2.ipython\n",
    "import rpy2.robjects as robjects\n",
    "from rpy2.robjects import pandas2ri"
   ],
   "metadata": {
    "collapsed": false,
    "ExecuteTime": {
     "start_time": "2024-11-03T16:02:38.211531900Z"
    }
   },
   "id": "b858545d482b56ea",
   "execution_count": null
  },
  {
   "cell_type": "code",
   "outputs": [],
   "source": [
    "%%R\n",
    "\n",
    "library(renv)\n",
    "renv::init()"
   ],
   "metadata": {
    "collapsed": false
   },
   "id": "3d47e3150f92f577",
   "execution_count": null
  },
  {
   "cell_type": "code",
   "outputs": [],
   "source": [
    "%%R\n",
    "\n",
    "project_dir <- rprojroot::find_root(rprojroot::is_rstudio_project | rprojroot::has_file(\"renv.lock\"))\n",
    "    renv::activate(project = project_dir)\n",
    "    renv::update(exclude = \"vctrs\")\n",
    "    renv::snapshot(project = project_dir)\n",
    "    "
   ],
   "metadata": {
    "collapsed": false
   },
   "id": "8406312013694c8b"
  }
 ],
 "metadata": {
  "kernelspec": {
   "display_name": "Python 3",
   "language": "python",
   "name": "python3"
  },
  "language_info": {
   "codemirror_mode": {
    "name": "ipython",
    "version": 2
   },
   "file_extension": ".py",
   "mimetype": "text/x-python",
   "name": "python",
   "nbconvert_exporter": "python",
   "pygments_lexer": "ipython2",
   "version": "2.7.6"
  }
 },
 "nbformat": 4,
 "nbformat_minor": 5
}
