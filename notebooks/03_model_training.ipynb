{
 "cells": [
  {
   "cell_type": "code",
   "execution_count": 2,
   "id": "initial_id",
   "metadata": {
    "collapsed": true,
    "ExecuteTime": {
     "end_time": "2024-11-28T20:14:54.475606600Z",
     "start_time": "2024-11-28T20:14:51.773015300Z"
    }
   },
   "outputs": [
    {
     "name": "stdout",
     "output_type": "stream",
     "text": [
      "- renv activated -- please restart the R session.\n"
     ]
    },
    {
     "name": "stderr",
     "output_type": "stream",
     "text": [
      "C:\\Users\\chris\\Anaconda\\envs\\var-es-010\\Lib\\site-packages\\rpy2\\robjects\\packages.py:367: UserWarning: The symbol 'quartz' is not in this R namespace/package.\n",
      "  warnings.warn(\n"
     ]
    }
   ],
   "source": [
    "import os\n",
    "from pathlib import Path\n",
    "\n",
    "from scripts.renv_utils import activate_renv\n",
    "from var_es_toolbox.data import load_data\n",
    "\n",
    "activate_renv()\n",
    "from rpy2.robjects import pandas2ri, globalenv\n",
    "%load_ext rpy2.ipython"
   ]
  },
  {
   "cell_type": "code",
   "outputs": [],
   "source": [
    "project_dir = Path(os.getcwd()).resolve().parent\n",
    "# Asset\n",
    "asset = \"DBc1_return\"\n",
    "globalenv[\"asset\"] = str(asset)\n",
    "\n",
    "# Retrieve data\n",
    "data_dir = project_dir / \"data\"\n",
    "data_cleaned_name = \"refinitiv_data_merged.csv\"\n",
    "date_format = \"ISO8601\"\n",
    "data_cleaned = load_data(data_dir / data_cleaned_name, date_format=date_format)\n",
    "futures_returns = data_cleaned[asset].dropna()\n",
    "\n",
    "# Retrieve r model\n",
    "models_dir = project_dir / \"src\" / \"var_es_toolbox\" / \"models\"\n",
    "backtest_dir = project_dir / \"src\" / \"var_es_toolbox\" / \"backtesting\"\n",
    "hs_path = models_dir / \"hs.R\"\n",
    "garch_path = models_dir / \"garch.R\"\n",
    "gas_path = models_dir / \"gas.R\"\n",
    "hybrid_evt_path = models_dir / \"hybrid_evt.R\"\n",
    "caviar_path = models_dir / \"caviar.R\"\n",
    "backtest_path = backtest_dir / \"backtesting.R\"\n",
    "\n",
    "globalenv['hs_path'] = str(hs_path)\n",
    "globalenv['garch_path'] = str(garch_path)\n",
    "globalenv['gas_path'] = str(gas_path)\n",
    "globalenv['hybrid_evt_path'] = str(hybrid_evt_path)\n",
    "globalenv['caviar_path'] = str(caviar_path)\n",
    "globalenv['backtest_path'] = str(backtest_path)\n",
    "\n",
    "# r.source(str(r_arch_models_path))\n",
    "# r.source(str(r_hybrid_evt_models_path))\n",
    "# r.source(str(r_non_param_path))\n",
    "# r.source(str(r_gas_models_path))\n",
    "# r.source(str(r_caviar_models_path))\n",
    "\n",
    "c = 0.05\n",
    "t = 0.95\n",
    "p = 1\n",
    "q = 1\n",
    "m = 1000\n",
    "n = 200\n",
    "refit = 10\n",
    "\n",
    "globalenv['df'] = pandas2ri.py2rpy(futures_returns.reset_index())\n",
    "globalenv['df_all'] = pandas2ri.py2rpy(data_cleaned.reset_index())\n",
    "globalenv['c'] = c\n",
    "globalenv['p'] = p\n",
    "globalenv['q'] = q\n",
    "globalenv['m'] = m\n",
    "globalenv['n'] = n\n",
    "globalenv['refit'] = refit"
   ],
   "metadata": {
    "collapsed": false,
    "ExecuteTime": {
     "end_time": "2024-11-28T20:14:54.781048200Z",
     "start_time": "2024-11-28T20:14:54.480607300Z"
    }
   },
   "id": "4f37f691f0baa3c2",
   "execution_count": 3
  },
  {
   "cell_type": "code",
   "outputs": [
    {
     "name": "stdout",
     "output_type": "stream",
     "text": [
      "                         vars    n    mean     sd  median trimmed    mad    min\n",
      "Date                        1 2876     NaN     NA      NA     NaN     NA    Inf\n",
      "DBc1                        2 1423  107.77 100.52   77.98   87.17  55.63   2.44\n",
      "DBc1_return                 3 1423    0.00   0.34    0.00    0.00   0.19  -2.43\n",
      "DPc1                        4 1420  112.94 106.51   78.10   91.18  55.29   0.01\n",
      "DPc1_return                 5 1419    0.00   0.51    0.00    0.00   0.23  -7.70\n",
      "DEBMc1                      6 1923   84.83  78.94   54.37   67.64  32.88  15.74\n",
      "DEBMc1_return               7 1922    0.00   0.05    0.00    0.00   0.02  -0.50\n",
      "DEPMc1                      8 1922   97.47  90.71   61.61   77.28  33.77  13.82\n",
      "DEPMc1_return               9 1921    0.00   0.05    0.00    0.00   0.02  -0.41\n",
      "DEBQc1                     10 1921  104.73 114.74   56.63   77.48  33.98  19.99\n",
      "DEBQc1_return              11 1920    0.00   0.04    0.00    0.00   0.02  -0.44\n",
      "DEPQc1                     12 1923  128.11 154.40   64.87   90.64  35.14  23.42\n",
      "DEPQc1_return              13 1922    0.00   0.05    0.00    0.00   0.02  -0.57\n",
      "DEBYc1                     14 1923  100.18 100.68   53.77   77.07  28.45  28.76\n",
      "DEBYc1_return              15 1922    0.00   0.03    0.00    0.00   0.02  -0.60\n",
      "DEPYc1                     16 1923  125.45 140.53   65.36   91.96  32.20  36.55\n",
      "DEPYc1_return              17 1922    0.00   0.03    0.00    0.00   0.01  -0.64\n",
      "Total electricity supply   18 2861 1519.86 237.54 1516.79 1519.69 253.58 371.88\n",
      "Total electricity demand   19 2861 1460.31 161.55 1459.15 1461.93 165.85 506.00\n",
      "                             max   range  skew kurtosis   se\n",
      "Date                        -Inf    -Inf    NA       NA   NA\n",
      "DBc1                      699.44  697.00  2.31     6.26 2.66\n",
      "DBc1_return                 2.14    4.57  0.09     8.90 0.01\n",
      "DPc1                      731.01  731.00  2.24     5.73 2.83\n",
      "DPc1_return                 7.92   15.61  0.22    81.77 0.01\n",
      "DEBMc1                    474.04  458.30  2.35     5.92 1.80\n",
      "DEBMc1_return               0.60    1.09  2.66    39.57 0.00\n",
      "DEPMc1                    554.00  540.18  2.24     4.99 2.07\n",
      "DEPMc1_return               0.59    1.00  2.67    36.43 0.00\n",
      "DEBQc1                    993.00  973.01  2.78     9.21 2.62\n",
      "DEBQc1_return               0.38    0.82  0.12    16.86 0.00\n",
      "DEPQc1                   1284.86 1261.44  3.10    11.35 3.52\n",
      "DEPQc1_return               0.41    0.97  0.32    30.03 0.00\n",
      "DEBYc1                    985.00  956.24  2.86    10.43 2.30\n",
      "DEBYc1_return               0.27    0.88 -3.60    77.04 0.00\n",
      "DEPYc1                   1295.00 1258.45  3.23    12.88 3.20\n",
      "DEPYc1_return               0.21    0.85 -5.23   130.76 0.00\n",
      "Total electricity supply 2170.59 1798.71 -0.03    -0.36 4.44\n",
      "Total electricity demand 1873.07 1367.07 -0.13    -0.24 3.02\n"
     ]
    },
    {
     "data": {
      "text/plain": "Loading required package: zoo\n\nAttaching package: 'zoo'\n\nThe following objects are masked from 'package:base':\n\n    as.Date, as.Date.numeric\n\nLoading required package: parallel\n\nAttaching package: 'rugarch'\n\nThe following object is masked from 'package:stats':\n\n    sigma\n\nKeep up to date with changes at https://tidyverse.org/blog/\n\nAttaching package: 'ggplot2'\n\nThe following objects are masked from 'package:psych':\n\n    %+%, alpha\n\nIn addition: Warning messages:\n1: package 'psych' was built under R version 4.4.2 \n2: In FUN(newX[, i], ...) : no non-missing arguments to min; returning Inf\n3: In FUN(newX[, i], ...) :\n  no non-missing arguments to max; returning -Inf\n"
     },
     "metadata": {},
     "output_type": "display_data"
    }
   ],
   "source": [
    "%%R\n",
    "library(xts)\n",
    "library(rugarch)\n",
    "library(psych)\n",
    "library(ggplot2)             \n",
    "\n",
    "names(df)[names(df) == asset] <- \"Return\"\n",
    "dates <- tail(df$Date, n)\n",
    "returns <- xts(tail(df$Return, n), order.by = dates)\n",
    "\n",
    "desc_stat <- psych::describe(df_all)\n",
    "print(desc_stat)\n",
    "\n",
    "# Define the function for plotting returns, VaR, and ES\n",
    "plot_var_es <- function(dates, returns, var, es) {\n",
    "  # Create a data frame for plotting\n",
    "  plot_data <- data.frame(\n",
    "    Date = dates,\n",
    "    Return = returns,\n",
    "    VaR = var,\n",
    "    ES = es\n",
    "  )\n",
    "  \n",
    "  # Generate the plot using ggplot2 with labels\n",
    "  ggplot(plot_data, aes(x = Date)) +\n",
    "    geom_line(aes(y = Return, color = \"Return\"), linewidth = 0.7, alpha = 0.8) +    # Actual returns\n",
    "    geom_line(aes(y = VaR, color = \"VaR\"), linetype = \"dashed\", linewidth = 0.7) + # VaR\n",
    "    geom_line(aes(y = ES, color = \"ES\"), linetype = \"dotted\", linewidth = 0.7) +   # ES\n",
    "    ggtitle(\"Actual Returns vs. VaR and ES\") +\n",
    "    xlab(\"Date\") +\n",
    "    ylab(\"Returns / VaR / ES\") +\n",
    "    theme_minimal() +\n",
    "    theme(\n",
    "      plot.title = element_text(hjust = 0.5),\n",
    "      legend.position = \"top\"\n",
    "    ) +\n",
    "    scale_color_manual(values = c(\"Return\" = \"blue\", \"VaR\" = \"red\", \"ES\" = \"darkorange\")) +\n",
    "    scale_y_continuous(labels = scales::percent) +\n",
    "    labs(color = \"Legend\")\n",
    "}"
   ],
   "metadata": {
    "collapsed": false,
    "ExecuteTime": {
     "end_time": "2024-11-28T20:14:57.410441200Z",
     "start_time": "2024-11-28T20:14:54.786189200Z"
    }
   },
   "id": "c177a593e9018364",
   "execution_count": 4
  },
  {
   "cell_type": "code",
   "outputs": [
    {
     "data": {
      "image/png": "[encoded data removed]",
      "text/plain": "<IPython.core.display.Image object>"
     },
     "metadata": {},
     "output_type": "display_data"
    }
   ],
   "source": [
    "%%R\n",
    "\n",
    "gg <- ggplot(df, aes(x=Date, y=Return)) +\n",
    "    geom_line(color=\"blue\") +\n",
    "    ggtitle(asset) +\n",
    "    xlab(\"Date\") +\n",
    "    ylab(\"Return (%)\")\n",
    "print(gg)"
   ],
   "metadata": {
    "collapsed": false,
    "ExecuteTime": {
     "end_time": "2024-11-28T16:39:49.260993600Z",
     "start_time": "2024-11-28T16:39:49.149710Z"
    }
   },
   "id": "eb254c1d86dec6ad",
   "execution_count": 9
  },
  {
   "cell_type": "code",
   "outputs": [
    {
     "data": {
      "image/png": "[encoded data removed]",
      "text/plain": "<IPython.core.display.Image object>"
     },
     "metadata": {},
     "output_type": "display_data"
    }
   ],
   "source": [
    "%%R\n",
    "\n",
    "gg <- ggplot(df, aes(sample = Return)) +\n",
    "    stat_qq(color = \"blue\") +\n",
    "    stat_qq_line(color = \"red\") +\n",
    "    ggtitle(paste(\"Q-Q Plot of\", asset)) +\n",
    "    xlab(\"Theoretical Quantiles\") +\n",
    "    ylab(\"Sample Quantiles\")\n",
    "print(gg)"
   ],
   "metadata": {
    "collapsed": false,
    "ExecuteTime": {
     "end_time": "2024-11-28T16:39:50.022373200Z",
     "start_time": "2024-11-28T16:39:49.905937900Z"
    }
   },
   "id": "9cdf5ab653a12fe3",
   "execution_count": 10
  },
  {
   "cell_type": "code",
   "outputs": [
    {
     "name": "stdout",
     "output_type": "stream",
     "text": [
      "NULL\n"
     ]
    },
    {
     "data": {
      "text/plain": "\nCalculations completed.\n\n"
     },
     "metadata": {},
     "output_type": "display_data"
    },
    {
     "data": {
      "image/png": "[encoded data removed]",
      "text/plain": "<IPython.core.display.Image object>"
     },
     "metadata": {},
     "output_type": "display_data"
    }
   ],
   "source": [
    "%%R\n",
    "source(hs_path)\n",
    "\n",
    "result <- forecast_u_HS(df, c, n, m)\n",
    "\n",
    "var <- -result$VaR\n",
    "print(VaRplot(c, returns, var))"
   ],
   "metadata": {
    "collapsed": false,
    "ExecuteTime": {
     "end_time": "2024-11-28T16:39:53.157249100Z",
     "start_time": "2024-11-28T16:39:53.065542800Z"
    }
   },
   "id": "ea859d057883c225",
   "execution_count": 12
  },
  {
   "cell_type": "code",
   "outputs": [
    {
     "data": {
      "image/png": "[encoded data removed]",
      "text/plain": "<IPython.core.display.Image object>"
     },
     "metadata": {},
     "output_type": "display_data"
    }
   ],
   "source": [
    "%%R\n",
    "\n",
    "es <- -result$ES\n",
    "print(plot_var_es(dates, returns, var, es))"
   ],
   "metadata": {
    "collapsed": false,
    "ExecuteTime": {
     "end_time": "2024-11-28T16:43:00.070953100Z",
     "start_time": "2024-11-28T16:42:59.938182500Z"
    }
   },
   "id": "e9f31c9e5b10456c",
   "execution_count": 32
  },
  {
   "cell_type": "code",
   "outputs": [
    {
     "name": "stdout",
     "output_type": "stream",
     "text": [
      "   ExpectedExceedances ActualExceedances        UC        CC    ER     ER_2\n",
      "HS                  10                14 0.2197458 0.4708818 0.043 0.707804\n",
      "         CoC      ESR1    ESR2      ESR3\n",
      "HS 0.4905756 0.3886074 0.63023 0.8175783\n"
     ]
    }
   ],
   "source": [
    "%%R\n",
    "source(backtest_path)\n",
    "\n",
    "vol <- result$VOL\n",
    "run_backtests(returns, var, es, c, prefix = \"HS\")"
   ],
   "metadata": {
    "collapsed": false,
    "ExecuteTime": {
     "end_time": "2024-11-28T16:39:59.299886100Z",
     "start_time": "2024-11-28T16:39:58.429646700Z"
    }
   },
   "id": "12f5ae7c3b89c59b",
   "execution_count": 14
  },
  {
   "cell_type": "code",
   "outputs": [
    {
     "data": {
      "text/plain": "\nCalculations completed.\n\n"
     },
     "metadata": {},
     "output_type": "display_data"
    },
    {
     "data": {
      "image/png": "[encoded data removed]",
      "text/plain": "<IPython.core.display.Image object>"
     },
     "metadata": {},
     "output_type": "display_data"
    }
   ],
   "source": [
    "%%R\n",
    "\n",
    "result <- forecast_u_FHS_GARCH(df, c, n, m)\n",
    "\n",
    "var <- -result$VaR\n",
    "VaRplot(c, returns, var)"
   ],
   "metadata": {
    "collapsed": false,
    "ExecuteTime": {
     "end_time": "2024-11-28T16:43:37.333556700Z",
     "start_time": "2024-11-28T16:43:07.193184200Z"
    }
   },
   "id": "3fc10623c596b90d",
   "execution_count": 33
  },
  {
   "cell_type": "code",
   "outputs": [
    {
     "data": {
      "image/png": "[encoded data removed]",
      "text/plain": "<IPython.core.display.Image object>"
     },
     "metadata": {},
     "output_type": "display_data"
    }
   ],
   "source": [
    "%%R\n",
    "\n",
    "es <- -result$ES\n",
    "print(plot_var_es(dates, returns, var, es))"
   ],
   "metadata": {
    "collapsed": false,
    "ExecuteTime": {
     "end_time": "2024-11-28T16:40:33.634952900Z",
     "start_time": "2024-11-28T16:40:33.391639100Z"
    }
   },
   "id": "d533c7d431b42ca3",
   "execution_count": 16
  },
  {
   "cell_type": "code",
   "outputs": [
    {
     "name": "stdout",
     "output_type": "stream",
     "text": [
      "    ExpectedExceedances ActualExceedances        UC       CC    ER      ER_2\n",
      "FHS                  10                11 0.7493283 0.499058 0.053 0.5024843\n",
      "          CoC       ESR1       ESR2      ESR3\n",
      "FHS 0.8751198 0.07832677 0.02105686 0.6633425\n"
     ]
    }
   ],
   "source": [
    "%%R\n",
    "source(backtest_path)\n",
    "\n",
    "vol <- result$VOL\n",
    "run_backtests(returns, var, es, c, VOL = vol, prefix = \"FHS\")"
   ],
   "metadata": {
    "collapsed": false,
    "ExecuteTime": {
     "end_time": "2024-11-28T16:40:33.939404Z",
     "start_time": "2024-11-28T16:40:33.625955700Z"
    }
   },
   "id": "8be8c71aeb35431a",
   "execution_count": 17
  },
  {
   "cell_type": "code",
   "outputs": [
    {
     "name": "stdout",
     "output_type": "stream",
     "text": [
      "NULL\n"
     ]
    },
    {
     "data": {
      "image/png": "[encoded data removed]",
      "text/plain": "<IPython.core.display.Image object>"
     },
     "metadata": {},
     "output_type": "display_data"
    }
   ],
   "source": [
    "%%R\n",
    "source(garch_path)\n",
    "\n",
    "result <- forecast_u_GARCH(df, c, n, m, r = 100, model = \"gjrGARCH\", dist = \"sstd\")\n",
    "\n",
    "var <- -result$VaR\n",
    "print(VaRplot(c, returns, var))"
   ],
   "metadata": {
    "collapsed": false,
    "ExecuteTime": {
     "end_time": "2024-11-28T16:40:35.304070800Z",
     "start_time": "2024-11-28T16:40:33.939404Z"
    }
   },
   "id": "4709527191d428",
   "execution_count": 18
  },
  {
   "cell_type": "code",
   "outputs": [
    {
     "data": {
      "image/png": "[encoded data removed]",
      "text/plain": "<IPython.core.display.Image object>"
     },
     "metadata": {},
     "output_type": "display_data"
    }
   ],
   "source": [
    "%%R\n",
    "\n",
    "es <- -result$ES\n",
    "print(plot_var_es(dates, returns, var, es))"
   ],
   "metadata": {
    "collapsed": false,
    "ExecuteTime": {
     "end_time": "2024-11-28T16:40:35.410780500Z",
     "start_time": "2024-11-28T16:40:35.268000200Z"
    }
   },
   "id": "2668538ca80c3808",
   "execution_count": 19
  },
  {
   "cell_type": "code",
   "outputs": [
    {
     "name": "stdout",
     "output_type": "stream",
     "text": [
      "          ExpectedExceedances ActualExceedances         UC         CC ER\n",
      "GJR-GARCH                  10                18 0.01899483 0.01063066  0\n",
      "               ER_2       CoC       ESR1      ESR2      ESR3\n",
      "GJR-GARCH 0.7898948 0.5259376 0.08778102 0.4009206 0.7137109\n"
     ]
    }
   ],
   "source": [
    "%%R\n",
    "source(backtest_path)\n",
    "\n",
    "vol <- result$VOL\n",
    "run_backtests(returns, var, es, c, VOL = vol, prefix = \"GJR-GARCH\")"
   ],
   "metadata": {
    "collapsed": false,
    "ExecuteTime": {
     "end_time": "2024-11-28T16:40:35.752521300Z",
     "start_time": "2024-11-28T16:40:35.403765500Z"
    }
   },
   "id": "c8cca40a196683ef",
   "execution_count": 20
  },
  {
   "cell_type": "code",
   "outputs": [
    {
     "name": "stdout",
     "output_type": "stream",
     "text": [
      "NULL\n"
     ]
    },
    {
     "data": {
      "text/plain": "\nAttaching package: 'GAS'\n\nThe following objects are masked from 'package:rugarch':\n\n    convergence, pit, residuals\n\nThe following object is masked from 'package:stats':\n\n    residuals\n\nIn addition: Warning message:\npackage 'GAS' was built under R version 4.4.2 \n"
     },
     "metadata": {},
     "output_type": "display_data"
    },
    {
     "data": {
      "image/png": "[encoded data removed]",
      "text/plain": "<IPython.core.display.Image object>"
     },
     "metadata": {},
     "output_type": "display_data"
    }
   ],
   "source": [
    "%%R\n",
    "source(gas_path)\n",
    "\n",
    "result <- forecast_u_GAS(df, c, n, m, r = 100, dist = \"sstd\")\n",
    "\n",
    "var <- -result$VaR\n",
    "VaRplot(c, returns, var)"
   ],
   "metadata": {
    "collapsed": false,
    "ExecuteTime": {
     "end_time": "2024-11-28T16:40:39.754412400Z",
     "start_time": "2024-11-28T16:40:35.737788200Z"
    }
   },
   "id": "538977d433263672",
   "execution_count": 21
  },
  {
   "cell_type": "code",
   "outputs": [
    {
     "data": {
      "image/png": "[encoded data removed]",
      "text/plain": "<IPython.core.display.Image object>"
     },
     "metadata": {},
     "output_type": "display_data"
    }
   ],
   "source": [
    "%%R\n",
    "\n",
    "es <- -result$ES\n",
    "print(plot_var_es(dates, returns, var, es))"
   ],
   "metadata": {
    "collapsed": false,
    "ExecuteTime": {
     "end_time": "2024-11-28T16:40:39.889356900Z",
     "start_time": "2024-11-28T16:40:39.742410300Z"
    }
   },
   "id": "ea540ac03ea4d934",
   "execution_count": 22
  },
  {
   "cell_type": "code",
   "outputs": [
    {
     "name": "stdout",
     "output_type": "stream",
     "text": [
      "Warning messages:\n",
      "1: package 'DEoptim' was built under R version 4.4.2\n",
      "2: In log((c - 1)/ES) : NaNs produced\n",
      "3: In log((c - 1)/ES) : NaNs produced\n",
      "4: In log((c - 1)/ES) : NaNs produced\n",
      "5: In log((c - 1)/ES) : NaNs produced\n",
      "6: In log((c - 1)/ES) : NaNs produced\n",
      "7: In log((c - 1)/ES) : NaNs produced\n",
      "8: In log((c - 1)/ES) : NaNs produced\n",
      "9: In log((c - 1)/ES) : NaNs produced\n",
      "10: In log((c - 1)/ES) : NaNs produced\n",
      "11: In log((c - 1)/ES) : NaNs produced\n",
      "12: In log((c - 1)/ES) : NaNs produced\n",
      "13: In log((c - 1)/ES) : NaNs produced\n",
      "14: In log((c - 1)/ES) : NaNs produced\n",
      "15: In log((c - 1)/ES) : NaNs produced\n",
      "16: In log((c - 1)/ES) : NaNs produced\n",
      "17: In log((c - 1)/ES) : NaNs produced\n",
      "18: In log((c - 1)/ES) : NaNs produced\n",
      "19: In log((c - 1)/ES) : NaNs produced\n",
      "20: In log((c - 1)/ES) : NaNs produced\n",
      "21: In log((c - 1)/ES) : NaNs produced\n",
      "22: In log((c - 1)/ES) : NaNs produced\n",
      "23: In log((c - 1)/ES) : NaNs produced\n",
      "24: In log((c - 1)/ES) : NaNs produced\n",
      "25: In log((c - 1)/ES) : NaNs produced\n",
      "26: In log((c - 1)/ES) : NaNs produced\n",
      "27: In log((c - 1)/ES) : NaNs produced\n",
      "28: In log((c - 1)/ES) : NaNs produced\n",
      "29: In log((c - 1)/ES) : NaNs produced\n",
      "30: In log((c - 1)/ES) : NaNs produced\n",
      "31: In log((c - 1)/ES) : NaNs produced\n",
      "32: In log((c - 1)/ES) : NaNs produced\n",
      "33: In log((c - 1)/ES) : NaNs produced\n",
      "34: In log((c - 1)/ES) : NaNs produced\n",
      "35: In log((c - 1)/ES) : NaNs produced\n",
      "36: In log((c - 1)/ES) : NaNs produced\n",
      "37: In log((c - 1)/ES) : NaNs produced\n",
      "38: In log((c - 1)/ES) : NaNs produced\n",
      "39: In log((c - 1)/ES) : NaNs produced\n",
      "40: In log((c - 1)/ES) : NaNs produced\n",
      "41: In log((c - 1)/ES) : NaNs produced\n",
      "42: In log((c - 1)/ES) : NaNs produced\n",
      "43: In log((c - 1)/ES) : NaNs produced\n",
      "44: In log((c - 1)/ES) : NaNs produced\n",
      "45: In log((c - 1)/ES) : NaNs produced\n",
      "46: In log((c - 1)/ES) : NaNs produced\n",
      "47: In log((c - 1)/ES) : NaNs produced\n",
      "48: In log((c - 1)/ES) : NaNs produced\n",
      "49: In log((c - 1)/ES) : NaNs produced\n",
      "50: In log((c - 1)/ES) : NaNs produced\n"
     ]
    }
   ],
   "source": [
    "%%R\n",
    "source(backtest_path)\n",
    "\n",
    "vol <- result$VOL\n",
    "run_backtests(returns, var, es, c, prefix = \"GAS\")"
   ],
   "metadata": {
    "collapsed": false,
    "ExecuteTime": {
     "end_time": "2024-11-28T16:45:26.597326200Z",
     "start_time": "2024-11-28T16:45:26.008264700Z"
    }
   },
   "id": "65be47015c2c6fcb",
   "execution_count": 35
  },
  {
   "cell_type": "code",
   "outputs": [
    {
     "data": {
      "text/plain": "\nAttaching package: 'evir'\n\nThe following object is masked from 'package:ggplot2':\n\n    qplot\n\n"
     },
     "metadata": {},
     "output_type": "display_data"
    },
    {
     "data": {
      "image/png": "[encoded data removed]",
      "text/plain": "<IPython.core.display.Image object>"
     },
     "metadata": {},
     "output_type": "display_data"
    }
   ],
   "source": [
    "%%R\n",
    "source(hybrid_evt_path)\n",
    "\n",
    "result <- forecast_u_EVT_GARCH(df, c, n, m, t = 0.95)\n",
    "\n",
    "var <- -result$VaR\n",
    "VaRplot(c, returns, var)"
   ],
   "metadata": {
    "collapsed": false,
    "ExecuteTime": {
     "end_time": "2024-11-28T17:14:28.111135900Z",
     "start_time": "2024-11-28T17:14:14.744866Z"
    }
   },
   "id": "55bfd06cdf96c5bf",
   "execution_count": 21
  },
  {
   "cell_type": "code",
   "outputs": [
    {
     "data": {
      "image/png": "[encoded data removed]",
      "text/plain": "<IPython.core.display.Image object>"
     },
     "metadata": {},
     "output_type": "display_data"
    }
   ],
   "source": [
    "%%R\n",
    "\n",
    "es <- -result$ES\n",
    "print(plot_var_es(dates, returns, var, es))"
   ],
   "metadata": {
    "collapsed": false,
    "ExecuteTime": {
     "end_time": "2024-11-28T16:40:55.017113500Z",
     "start_time": "2024-11-28T16:40:54.881255400Z"
    }
   },
   "id": "4ff46cd7ccc74cff",
   "execution_count": 25
  },
  {
   "cell_type": "code",
   "outputs": [],
   "source": [
    "%%R\n",
    "source(backtest_path)\n",
    "\n",
    "vol <- result$VOL\n",
    "run_backtests(returns, var, es, c, VOL = vol, prefix = \"EVT_GARCH\")"
   ],
   "metadata": {
    "collapsed": false
   },
   "id": "944ecc4d9ae8397e",
   "execution_count": null
  },
  {
   "cell_type": "code",
   "outputs": [
    {
     "data": {
      "image/png": "[encoded data removed]",
      "text/plain": "<IPython.core.display.Image object>"
     },
     "metadata": {},
     "output_type": "display_data"
    }
   ],
   "source": [
    "%%R\n",
    "source(caviar_path)\n",
    "\n",
    "result <- forecast_u_CAViaR(df, c, n, m, r = 10, var_model = \"asymmetricSlope\", itermax = 50, es_model=\"mult\")\n",
    "\n",
    "var <- -result$VaR\n",
    "VaRplot(c, returns, var)"
   ],
   "metadata": {
    "collapsed": false,
    "ExecuteTime": {
     "end_time": "2024-11-28T21:21:49.246650100Z",
     "start_time": "2024-11-28T21:19:57.291038800Z"
    }
   },
   "id": "10c252000bd46fa2",
   "execution_count": 37
  },
  {
   "cell_type": "code",
   "outputs": [
    {
     "data": {
      "image/png": "[encoded data removed]",
      "text/plain": "<IPython.core.display.Image object>"
     },
     "metadata": {},
     "output_type": "display_data"
    }
   ],
   "source": [
    "%%R\n",
    "\n",
    "es <- -result$ES\n",
    "print(plot_var_es(dates, returns, var, es))"
   ],
   "metadata": {
    "collapsed": false,
    "ExecuteTime": {
     "end_time": "2024-11-28T21:22:01.875208300Z",
     "start_time": "2024-11-28T21:22:01.450812300Z"
    }
   },
   "id": "1f4ef114d36804f6",
   "execution_count": 38
  },
  {
   "cell_type": "code",
   "outputs": [
    {
     "name": "stdout",
     "output_type": "stream",
     "text": [
      "       ExpectedExceedances ActualExceedances UC CC ER        ER_2          CoC\n",
      "CAVIAR                  10                66  0  0  0 0.007034718 1.170397e-12\n",
      "       ESR1 ESR2      ESR3\n",
      "CAVIAR    0    0 0.6764859\n"
     ]
    }
   ],
   "source": [
    "%%R\n",
    "source(backtest_path)\n",
    "\n",
    "vol <- result$VOL\n",
    "run_backtests(returns, var, es, c, prefix = \"CAVIAR\")"
   ],
   "metadata": {
    "collapsed": false,
    "ExecuteTime": {
     "end_time": "2024-11-28T21:22:08.625402600Z",
     "start_time": "2024-11-28T21:22:07.313553300Z"
    }
   },
   "id": "a0a09ddaf521f2cb",
   "execution_count": 39
  }
 ],
 "metadata": {
  "kernelspec": {
   "name": "python3",
   "language": "python",
   "display_name": "Python 3 (ipykernel)"
  },
  "language_info": {
   "codemirror_mode": {
    "name": "ipython",
    "version": 2
   },
   "file_extension": ".py",
   "mimetype": "text/x-python",
   "name": "python",
   "nbconvert_exporter": "python",
   "pygments_lexer": "ipython2",
   "version": "2.7.6"
  }
 },
 "nbformat": 4,
 "nbformat_minor": 5
}
