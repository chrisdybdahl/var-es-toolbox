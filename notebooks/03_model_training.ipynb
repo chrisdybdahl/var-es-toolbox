{
 "cells": [
  {
   "cell_type": "code",
   "execution_count": 8,
   "id": "initial_id",
   "metadata": {
    "collapsed": true,
    "ExecuteTime": {
     "end_time": "2024-11-30T02:09:19.052283200Z",
     "start_time": "2024-11-30T02:09:18.058645700Z"
    }
   },
   "outputs": [
    {
     "name": "stdout",
     "output_type": "stream",
     "text": [
      "- renv activated -- please restart the R session.\n",
      "The rpy2.ipython extension is already loaded. To reload it, use:\n",
      "  %reload_ext rpy2.ipython\n"
     ]
    }
   ],
   "source": [
    "import os\n",
    "from pathlib import Path\n",
    "\n",
    "from scripts.renv_utils import activate_renv\n",
    "from var_es_toolbox.data import load_data\n",
    "\n",
    "activate_renv()\n",
    "from rpy2.robjects import pandas2ri, globalenv\n",
    "%load_ext rpy2.ipython"
   ]
  },
  {
   "cell_type": "code",
   "outputs": [],
   "source": [
    "project_dir = Path(os.getcwd()).resolve().parent\n",
    "# Asset\n",
    "asset = \"DEBQc1_return\"\n",
    "globalenv[\"asset\"] = str(asset)\n",
    "\n",
    "# Retrieve data\n",
    "data_dir = project_dir / \"data\"\n",
    "data_cleaned_name = \"refinitiv_data_merged.csv\"\n",
    "date_format = \"ISO8601\"\n",
    "data_cleaned = load_data(data_dir / data_cleaned_name, date_format=date_format)\n",
    "futures_returns = data_cleaned[asset].dropna()\n",
    "\n",
    "# Retrieve r model\n",
    "models_dir = project_dir / \"src\" / \"var_es_toolbox\" / \"models\"\n",
    "backtest_dir = project_dir / \"src\" / \"var_es_toolbox\" / \"backtesting\"\n",
    "hs_path = models_dir / \"hs.R\"\n",
    "garch_path = models_dir / \"garch.R\"\n",
    "gas_path = models_dir / \"gas.R\"\n",
    "hybrid_evt_path = models_dir / \"hybrid_evt.R\"\n",
    "caviar_path = models_dir / \"caviar\" / \"caviar.R\"\n",
    "backtest_path = backtest_dir / \"backtesting.R\"\n",
    "\n",
    "globalenv['hs_path'] = str(hs_path)\n",
    "globalenv['garch_path'] = str(garch_path)\n",
    "globalenv['gas_path'] = str(gas_path)\n",
    "globalenv['hybrid_evt_path'] = str(hybrid_evt_path)\n",
    "globalenv['caviar_path'] = str(caviar_path)\n",
    "globalenv['backtest_path'] = str(backtest_path)\n",
    "\n",
    "# r.source(str(r_arch_models_path))\n",
    "# r.source(str(r_hybrid_evt_models_path))\n",
    "# r.source(str(r_non_param_path))\n",
    "# r.source(str(r_gas_models_path))\n",
    "# r.source(str(r_caviar_models_path))\n",
    "\n",
    "c = 0.05\n",
    "t = 0.95\n",
    "p = 1\n",
    "q = 1\n",
    "m = 500\n",
    "n = 200\n",
    "refit = 10\n",
    "\n",
    "globalenv['df'] = pandas2ri.py2rpy(futures_returns.reset_index())\n",
    "globalenv['df_all'] = pandas2ri.py2rpy(data_cleaned.reset_index())\n",
    "globalenv['c'] = c\n",
    "globalenv['p'] = p\n",
    "globalenv['q'] = q\n",
    "globalenv['m'] = m\n",
    "globalenv['n'] = n\n",
    "globalenv['refit'] = refit"
   ],
   "metadata": {
    "collapsed": false,
    "ExecuteTime": {
     "end_time": "2024-11-30T02:09:19.728345300Z",
     "start_time": "2024-11-30T02:09:19.055909900Z"
    }
   },
   "id": "4f37f691f0baa3c2",
   "execution_count": 9
  },
  {
   "cell_type": "code",
   "outputs": [
    {
     "name": "stdout",
     "output_type": "stream",
     "text": [
      "                         vars    n    mean     sd  median trimmed    mad    min\n",
      "Date                        1 2876     NaN     NA      NA     NaN     NA    Inf\n",
      "DBc1                        2 1423  107.77 100.52   77.98   87.17  55.63   2.44\n",
      "DBc1_return                 3 1423    0.00   0.34    0.00    0.00   0.19  -2.43\n",
      "DPc1                        4 1420  112.94 106.51   78.10   91.18  55.29   0.01\n",
      "DPc1_return                 5 1419    0.00   0.51    0.00    0.00   0.23  -7.70\n",
      "DEBMc1                      6 1923   84.83  78.94   54.37   67.64  32.88  15.74\n",
      "DEBMc1_return               7 1922    0.00   0.05    0.00    0.00   0.02  -0.50\n",
      "DEPMc1                      8 1922   97.47  90.71   61.61   77.28  33.77  13.82\n",
      "DEPMc1_return               9 1921    0.00   0.05    0.00    0.00   0.02  -0.41\n",
      "DEBQc1                     10 1921  104.73 114.74   56.63   77.48  33.98  19.99\n",
      "DEBQc1_return              11 1920    0.00   0.04    0.00    0.00   0.02  -0.44\n",
      "DEPQc1                     12 1923  128.11 154.40   64.87   90.64  35.14  23.42\n",
      "DEPQc1_return              13 1922    0.00   0.05    0.00    0.00   0.02  -0.57\n",
      "DEBYc1                     14 1923  100.18 100.68   53.77   77.07  28.45  28.76\n",
      "DEBYc1_return              15 1922    0.00   0.03    0.00    0.00   0.02  -0.60\n",
      "DEPYc1                     16 1923  125.45 140.53   65.36   91.96  32.20  36.55\n",
      "DEPYc1_return              17 1922    0.00   0.03    0.00    0.00   0.01  -0.64\n",
      "Total electricity supply   18 2861 1519.86 237.54 1516.79 1519.69 253.58 371.88\n",
      "Total electricity demand   19 2861 1460.31 161.55 1459.15 1461.93 165.85 506.00\n",
      "                             max   range  skew kurtosis   se\n",
      "Date                        -Inf    -Inf    NA       NA   NA\n",
      "DBc1                      699.44  697.00  2.31     6.26 2.66\n",
      "DBc1_return                 2.14    4.57  0.09     8.90 0.01\n",
      "DPc1                      731.01  731.00  2.24     5.73 2.83\n",
      "DPc1_return                 7.92   15.61  0.22    81.77 0.01\n",
      "DEBMc1                    474.04  458.30  2.35     5.92 1.80\n",
      "DEBMc1_return               0.60    1.09  2.66    39.57 0.00\n",
      "DEPMc1                    554.00  540.18  2.24     4.99 2.07\n",
      "DEPMc1_return               0.59    1.00  2.67    36.43 0.00\n",
      "DEBQc1                    993.00  973.01  2.78     9.21 2.62\n",
      "DEBQc1_return               0.38    0.82  0.12    16.86 0.00\n",
      "DEPQc1                   1284.86 1261.44  3.10    11.35 3.52\n",
      "DEPQc1_return               0.41    0.97  0.32    30.03 0.00\n",
      "DEBYc1                    985.00  956.24  2.86    10.43 2.30\n",
      "DEBYc1_return               0.27    0.88 -3.60    77.04 0.00\n",
      "DEPYc1                   1295.00 1258.45  3.23    12.88 3.20\n",
      "DEPYc1_return               0.21    0.85 -5.23   130.76 0.00\n",
      "Total electricity supply 2170.59 1798.71 -0.03    -0.36 4.44\n",
      "Total electricity demand 1873.07 1367.07 -0.13    -0.24 3.02\n"
     ]
    },
    {
     "data": {
      "text/plain": "In addition: Warning messages:\n1: In FUN(newX[, i], ...) : no non-missing arguments to min; returning Inf\n2: In FUN(newX[, i], ...) :\n  no non-missing arguments to max; returning -Inf\n"
     },
     "metadata": {},
     "output_type": "display_data"
    }
   ],
   "source": [
    "%%R\n",
    "library(xts)\n",
    "library(rugarch)\n",
    "library(psych)\n",
    "library(ggplot2)             \n",
    "\n",
    "names(df)[names(df) == asset] <- \"Return\"\n",
    "dates <- tail(df$Date, n)\n",
    "returns <- xts(tail(df$Return, n), order.by = dates)\n",
    "\n",
    "desc_stat <- psych::describe(df_all)\n",
    "print(desc_stat)\n",
    "\n",
    "# Define the function for plotting returns, VaR, and ES\n",
    "plot_var_es <- function(dates, returns, var, es) {\n",
    "  # Create a data frame for plotting\n",
    "  plot_data <- data.frame(\n",
    "    Date = dates,\n",
    "    Return = returns,\n",
    "    VaR = var,\n",
    "    ES = es\n",
    "  )\n",
    "  \n",
    "  # Generate the plot using ggplot2 with labels\n",
    "  ggplot(plot_data, aes(x = Date)) +\n",
    "    geom_line(aes(y = Return, color = \"Return\"), linewidth = 0.7, alpha = 0.8) +    # Actual returns\n",
    "    geom_line(aes(y = VaR, color = \"VaR\"), linetype = \"dashed\", linewidth = 0.7) + # VaR\n",
    "    geom_line(aes(y = ES, color = \"ES\"), linetype = \"dotted\", linewidth = 0.7) +   # ES\n",
    "    ggtitle(\"Actual Returns vs. VaR and ES\") +\n",
    "    xlab(\"Date\") +\n",
    "    ylab(\"Returns / VaR / ES\") +\n",
    "    theme_minimal() +\n",
    "    theme(\n",
    "      plot.title = element_text(hjust = 0.5),\n",
    "      legend.position = \"top\"\n",
    "    ) +\n",
    "    scale_color_manual(values = c(\"Return\" = \"blue\", \"VaR\" = \"red\", \"ES\" = \"darkorange\")) +\n",
    "    scale_y_continuous(labels = scales::percent) +\n",
    "    labs(color = \"Legend\")\n",
    "}"
   ],
   "metadata": {
    "collapsed": false,
    "ExecuteTime": {
     "end_time": "2024-11-30T02:09:20.711145700Z",
     "start_time": "2024-11-30T02:09:19.741997500Z"
    }
   },
   "id": "c177a593e9018364",
   "execution_count": 10
  },
  {
   "cell_type": "code",
   "outputs": [
    {
     "data": {
      "image/png": "[encoded data removed]",
      "text/plain": "<IPython.core.display.Image object>"
     },
     "metadata": {},
     "output_type": "display_data"
    }
   ],
   "source": [
    "%%R\n",
    "\n",
    "gg <- ggplot(df, aes(x=Date, y=Return)) +\n",
    "    geom_line(color=\"blue\") +\n",
    "    ggtitle(asset) +\n",
    "    xlab(\"Date\") +\n",
    "    ylab(\"Return (%)\")\n",
    "print(gg)"
   ],
   "metadata": {
    "collapsed": false,
    "ExecuteTime": {
     "end_time": "2024-11-29T15:18:50.789669700Z",
     "start_time": "2024-11-29T15:18:50.699380100Z"
    }
   },
   "id": "eb254c1d86dec6ad",
   "execution_count": 25
  },
  {
   "cell_type": "code",
   "outputs": [
    {
     "data": {
      "image/png": "[encoded data removed]",
      "text/plain": "<IPython.core.display.Image object>"
     },
     "metadata": {},
     "output_type": "display_data"
    }
   ],
   "source": [
    "%%R\n",
    "\n",
    "gg <- ggplot(df, aes(sample = Return)) +\n",
    "    stat_qq(color = \"blue\") +\n",
    "    stat_qq_line(color = \"red\") +\n",
    "    ggtitle(paste(\"Q-Q Plot of\", asset)) +\n",
    "    xlab(\"Theoretical Quantiles\") +\n",
    "    ylab(\"Sample Quantiles\")\n",
    "print(gg)"
   ],
   "metadata": {
    "collapsed": false,
    "ExecuteTime": {
     "end_time": "2024-11-29T15:18:53.203927600Z",
     "start_time": "2024-11-29T15:18:53.093070800Z"
    }
   },
   "id": "9cdf5ab653a12fe3",
   "execution_count": 26
  },
  {
   "cell_type": "code",
   "outputs": [
    {
     "data": {
      "text/plain": "\nCalculations completed.\n\n"
     },
     "metadata": {},
     "output_type": "display_data"
    },
    {
     "data": {
      "image/png": "[encoded data removed]",
      "text/plain": "<IPython.core.display.Image object>"
     },
     "metadata": {},
     "output_type": "display_data"
    }
   ],
   "source": [
    "%%R\n",
    "source(hs_path)\n",
    "\n",
    "result <- forecast_u_HS(df, c, n, m)\n",
    "\n",
    "var <- -result$VaR\n",
    "VaRplot(c, returns, var)"
   ],
   "metadata": {
    "collapsed": false,
    "ExecuteTime": {
     "end_time": "2024-11-29T11:32:30.980395800Z",
     "start_time": "2024-11-29T11:32:30.900868800Z"
    }
   },
   "id": "ea859d057883c225",
   "execution_count": 44
  },
  {
   "cell_type": "code",
   "outputs": [
    {
     "data": {
      "image/png": "[encoded data removed]",
      "text/plain": "<IPython.core.display.Image object>"
     },
     "metadata": {},
     "output_type": "display_data"
    }
   ],
   "source": [
    "%%R\n",
    "\n",
    "es <- -result$ES\n",
    "print(plot_var_es(dates, returns, var, es))"
   ],
   "metadata": {
    "collapsed": false,
    "ExecuteTime": {
     "end_time": "2024-11-29T11:32:32.862304400Z",
     "start_time": "2024-11-29T11:32:32.752711600Z"
    }
   },
   "id": "e9f31c9e5b10456c",
   "execution_count": 45
  },
  {
   "cell_type": "code",
   "outputs": [
    {
     "name": "stdout",
     "output_type": "stream",
     "text": [
      "   ExpectedExceedances ActualExceedances          UC          CC       VDT ER\n",
      "HS                  10                 2 0.001657771 0.006960285 0.4133456  0\n",
      "   ER_2 CoC         ESR1 ESR2         ESR3\n",
      "HS    1   0 2.009504e-14    0 3.552714e-15\n"
     ]
    }
   ],
   "source": [
    "%%R\n",
    "source(backtest_path)\n",
    "\n",
    "vol <- result$VOL\n",
    "run_backtests(returns, var, es, c, prefix = \"HS\")"
   ],
   "metadata": {
    "collapsed": false,
    "ExecuteTime": {
     "end_time": "2024-11-29T11:32:36.936193600Z",
     "start_time": "2024-11-29T11:32:36.697638600Z"
    }
   },
   "id": "12f5ae7c3b89c59b",
   "execution_count": 46
  },
  {
   "cell_type": "code",
   "outputs": [
    {
     "data": {
      "text/plain": "\nCalculations completed.\n\n"
     },
     "metadata": {},
     "output_type": "display_data"
    },
    {
     "data": {
      "image/png": "[encoded data removed]",
      "text/plain": "<IPython.core.display.Image object>"
     },
     "metadata": {},
     "output_type": "display_data"
    }
   ],
   "source": [
    "%%R\n",
    "\n",
    "result <- forecast_u_FHS_GARCH(df, c, n, m)\n",
    "\n",
    "var <- -result$VaR\n",
    "VaRplot(c, returns, var)"
   ],
   "metadata": {
    "collapsed": false,
    "ExecuteTime": {
     "end_time": "2024-11-29T11:33:07.200476800Z",
     "start_time": "2024-11-29T11:32:39.139707400Z"
    }
   },
   "id": "3fc10623c596b90d",
   "execution_count": 47
  },
  {
   "cell_type": "code",
   "outputs": [
    {
     "data": {
      "image/png": "[encoded data removed]",
      "text/plain": "<IPython.core.display.Image object>"
     },
     "metadata": {},
     "output_type": "display_data"
    }
   ],
   "source": [
    "%%R\n",
    "\n",
    "es <- -result$ES\n",
    "print(plot_var_es(dates, returns, var, es))"
   ],
   "metadata": {
    "collapsed": false,
    "ExecuteTime": {
     "end_time": "2024-11-29T11:33:07.495975600Z",
     "start_time": "2024-11-29T11:33:07.199576500Z"
    }
   },
   "id": "d533c7d431b42ca3",
   "execution_count": 48
  },
  {
   "cell_type": "code",
   "outputs": [
    {
     "name": "stdout",
     "output_type": "stream",
     "text": [
      "    ExpectedExceedances ActualExceedances        UC       CC       VDT ER\n",
      "FHS                  10                 7 0.3046629 0.457444 0.4385572  0\n",
      "         ER_2       CoC       ESR1       ESR2       ESR3\n",
      "FHS 0.9999999 0.0260549 0.05415445 0.05850067 0.03584355\n"
     ]
    }
   ],
   "source": [
    "%%R\n",
    "source(backtest_path)\n",
    "\n",
    "vol <- result$VOL\n",
    "run_backtests(returns, var, es, c, VOL = vol, prefix = \"FHS\")"
   ],
   "metadata": {
    "collapsed": false,
    "ExecuteTime": {
     "end_time": "2024-11-29T11:33:08.236447400Z",
     "start_time": "2024-11-29T11:33:07.485083900Z"
    }
   },
   "id": "8be8c71aeb35431a",
   "execution_count": 49
  },
  {
   "cell_type": "code",
   "outputs": [
    {
     "name": "stdout",
     "output_type": "stream",
     "text": [
      "NULL\n"
     ]
    },
    {
     "data": {
      "image/png": "[encoded data removed]",
      "text/plain": "<IPython.core.display.Image object>"
     },
     "metadata": {},
     "output_type": "display_data"
    }
   ],
   "source": [
    "%%R\n",
    "source(garch_path)\n",
    "\n",
    "result <- forecast_u_GARCH(df, c, n, m, r = 100, model = \"gjrGARCH\", dist = \"sstd\")\n",
    "\n",
    "var <- -result$VaR\n",
    "print(VaRplot(c, returns, var))"
   ],
   "metadata": {
    "collapsed": false,
    "ExecuteTime": {
     "end_time": "2024-11-29T11:41:37.124558600Z",
     "start_time": "2024-11-29T11:41:35.992190400Z"
    }
   },
   "id": "4709527191d428",
   "execution_count": 50
  },
  {
   "cell_type": "code",
   "outputs": [
    {
     "data": {
      "image/png": "[encoded data removed]",
      "text/plain": "<IPython.core.display.Image object>"
     },
     "metadata": {},
     "output_type": "display_data"
    }
   ],
   "source": [
    "%%R\n",
    "\n",
    "es <- -result$ES\n",
    "print(plot_var_es(dates, returns, var, es))"
   ],
   "metadata": {
    "collapsed": false,
    "ExecuteTime": {
     "end_time": "2024-11-29T11:41:37.289571600Z",
     "start_time": "2024-11-29T11:41:37.124558600Z"
    }
   },
   "id": "2668538ca80c3808",
   "execution_count": 51
  },
  {
   "cell_type": "code",
   "outputs": [
    {
     "name": "stdout",
     "output_type": "stream",
     "text": [
      "          ExpectedExceedances ActualExceedances        UC        CC       VDT\n",
      "GJR-GARCH                  10                 6 0.1621867 0.3124166 0.4839754\n",
      "          ER ER_2       CoC ESR1 ESR2         ESR3\n",
      "GJR-GARCH  0    1 0.0144173    0    0 4.795451e-10\n"
     ]
    }
   ],
   "source": [
    "%%R\n",
    "source(backtest_path)\n",
    "\n",
    "vol <- result$VOL\n",
    "run_backtests(returns, var, es, c, VOL = vol, prefix = \"GJR-GARCH\")"
   ],
   "metadata": {
    "collapsed": false,
    "ExecuteTime": {
     "end_time": "2024-11-29T11:41:38.433766600Z",
     "start_time": "2024-11-29T11:41:38.077184Z"
    }
   },
   "id": "c8cca40a196683ef",
   "execution_count": 52
  },
  {
   "cell_type": "code",
   "outputs": [
    {
     "data": {
      "image/png": "[encoded data removed]",
      "text/plain": "<IPython.core.display.Image object>"
     },
     "metadata": {},
     "output_type": "display_data"
    }
   ],
   "source": [
    "%%R\n",
    "source(gas_path)\n",
    "\n",
    "result <- forecast_u_GAS(df, c, n, m, r = 10, dist = \"sstd\")\n",
    "\n",
    "var <- -result$VaR\n",
    "VaRplot(c, returns, var)"
   ],
   "metadata": {
    "collapsed": false,
    "ExecuteTime": {
     "end_time": "2024-11-29T11:42:22.894959600Z",
     "start_time": "2024-11-29T11:42:07.339522100Z"
    }
   },
   "id": "538977d433263672",
   "execution_count": 56
  },
  {
   "cell_type": "code",
   "outputs": [
    {
     "data": {
      "image/png": "[encoded data removed]",
      "text/plain": "<IPython.core.display.Image object>"
     },
     "metadata": {},
     "output_type": "display_data"
    }
   ],
   "source": [
    "%%R\n",
    "\n",
    "es <- -result$ES\n",
    "print(plot_var_es(dates, returns, var, es))"
   ],
   "metadata": {
    "collapsed": false,
    "ExecuteTime": {
     "end_time": "2024-11-29T11:44:56.099776300Z",
     "start_time": "2024-11-29T11:44:55.983185700Z"
    }
   },
   "id": "ea540ac03ea4d934",
   "execution_count": 59
  },
  {
   "cell_type": "code",
   "outputs": [
    {
     "name": "stdout",
     "output_type": "stream",
     "text": [
      "    ExpectedExceedances ActualExceedances        UC       CC       VDT ER\n",
      "GAS                  10                 7 0.3046629 0.457444 0.4385572  0\n",
      "         ER_2          CoC ESR1 ESR2      ESR3\n",
      "GAS 0.9999343 5.495604e-14    0    0 0.1411908\n"
     ]
    }
   ],
   "source": [
    "%%R\n",
    "source(backtest_path)\n",
    "\n",
    "vol <- result$VOL\n",
    "run_backtests(returns, var, es, c, prefix = \"GAS\")"
   ],
   "metadata": {
    "collapsed": false,
    "ExecuteTime": {
     "end_time": "2024-11-29T11:44:57.378679800Z",
     "start_time": "2024-11-29T11:44:57.090127Z"
    }
   },
   "id": "65be47015c2c6fcb",
   "execution_count": 60
  },
  {
   "cell_type": "code",
   "outputs": [
    {
     "data": {
      "image/png": "[encoded data removed]",
      "text/plain": "<IPython.core.display.Image object>"
     },
     "metadata": {},
     "output_type": "display_data"
    }
   ],
   "source": [
    "%%R\n",
    "source(hybrid_evt_path)\n",
    "\n",
    "result <- forecast_u_EVT_GARCH(df, 0.01, n, m, t = 0.95)\n",
    "\n",
    "var <- -result$VaR\n",
    "VaRplot(c, returns, var)"
   ],
   "metadata": {
    "collapsed": false,
    "ExecuteTime": {
     "end_time": "2024-11-29T11:45:34.096490500Z",
     "start_time": "2024-11-29T11:45:22.024122400Z"
    }
   },
   "id": "55bfd06cdf96c5bf",
   "execution_count": 64
  },
  {
   "cell_type": "code",
   "outputs": [
    {
     "data": {
      "image/png": "[encoded data removed]",
      "text/plain": "<IPython.core.display.Image object>"
     },
     "metadata": {},
     "output_type": "display_data"
    }
   ],
   "source": [
    "%%R\n",
    "\n",
    "es <- -result$ES\n",
    "print(plot_var_es(dates, returns, var, es))"
   ],
   "metadata": {
    "collapsed": false,
    "ExecuteTime": {
     "end_time": "2024-11-29T11:45:34.215163300Z",
     "start_time": "2024-11-29T11:45:34.095490Z"
    }
   },
   "id": "4ff46cd7ccc74cff",
   "execution_count": 65
  },
  {
   "cell_type": "code",
   "outputs": [
    {
     "name": "stdout",
     "output_type": "stream",
     "text": [
      "Error in `[.default`(n, 2, 2) : subscript out of bounds\n"
     ]
    },
    {
     "ename": "RInterpreterError",
     "evalue": "Failed to parse and evaluate line 'source(backtest_path)\\n\\nvol <- result$VOL\\nrun_backtests(returns, var, es, c, VOL = vol, prefix = \"EVT_GARCH\")\\n'.\nR error message: 'Error in `[.default`(n, 2, 2) : subscript out of bounds'",
     "output_type": "error",
     "traceback": [
      "\u001B[1;31m---------------------------------------------------------------------------\u001B[0m",
      "\u001B[1;31mRRuntimeError\u001B[0m                             Traceback (most recent call last)",
      "File \u001B[1;32m~\\Anaconda\\envs\\var-es-010\\Lib\\site-packages\\rpy2\\ipython\\rmagic.py:407\u001B[0m, in \u001B[0;36mRMagics.eval\u001B[1;34m(self, code)\u001B[0m\n\u001B[0;32m    406\u001B[0m     r_expr \u001B[38;5;241m=\u001B[39m ri\u001B[38;5;241m.\u001B[39mparse(code)\n\u001B[1;32m--> 407\u001B[0m     value, visible \u001B[38;5;241m=\u001B[39m \u001B[43mri\u001B[49m\u001B[38;5;241;43m.\u001B[39;49m\u001B[43mevalr_expr_with_visible\u001B[49m\u001B[43m(\u001B[49m\n\u001B[0;32m    408\u001B[0m \u001B[43m        \u001B[49m\u001B[43mr_expr\u001B[49m\n\u001B[0;32m    409\u001B[0m \u001B[43m    \u001B[49m\u001B[43m)\u001B[49m\n\u001B[0;32m    410\u001B[0m \u001B[38;5;28;01mexcept\u001B[39;00m (ri\u001B[38;5;241m.\u001B[39membedded\u001B[38;5;241m.\u001B[39mRRuntimeError, \u001B[38;5;167;01mValueError\u001B[39;00m) \u001B[38;5;28;01mas\u001B[39;00m exception:\n\u001B[0;32m    411\u001B[0m     \u001B[38;5;66;03m# Otherwise next return seems to have copy of error.\u001B[39;00m\n",
      "File \u001B[1;32m~\\Anaconda\\envs\\var-es-010\\Lib\\site-packages\\rpy2\\rinterface.py:192\u001B[0m, in \u001B[0;36mevalr_expr_with_visible\u001B[1;34m(expr, envir)\u001B[0m\n\u001B[0;32m    191\u001B[0m \u001B[38;5;28;01mif\u001B[39;00m error_occured[\u001B[38;5;241m0\u001B[39m]:\n\u001B[1;32m--> 192\u001B[0m     \u001B[38;5;28;01mraise\u001B[39;00m embedded\u001B[38;5;241m.\u001B[39mRRuntimeError(_rinterface\u001B[38;5;241m.\u001B[39m_geterrmessage())\n\u001B[0;32m    193\u001B[0m res \u001B[38;5;241m=\u001B[39m conversion\u001B[38;5;241m.\u001B[39m_cdata_to_rinterface(r_res)\n",
      "\u001B[1;31mRRuntimeError\u001B[0m: Error in `[.default`(n, 2, 2) : subscript out of bounds\n",
      "\nDuring handling of the above exception, another exception occurred:\n",
      "\u001B[1;31mRInterpreterError\u001B[0m                         Traceback (most recent call last)",
      "Cell \u001B[1;32mIn[32], line 1\u001B[0m\n\u001B[1;32m----> 1\u001B[0m \u001B[43mget_ipython\u001B[49m\u001B[43m(\u001B[49m\u001B[43m)\u001B[49m\u001B[38;5;241;43m.\u001B[39;49m\u001B[43mrun_cell_magic\u001B[49m\u001B[43m(\u001B[49m\u001B[38;5;124;43m'\u001B[39;49m\u001B[38;5;124;43mR\u001B[39;49m\u001B[38;5;124;43m'\u001B[39;49m\u001B[43m,\u001B[49m\u001B[43m \u001B[49m\u001B[38;5;124;43m'\u001B[39;49m\u001B[38;5;124;43m'\u001B[39;49m\u001B[43m,\u001B[49m\u001B[43m \u001B[49m\u001B[38;5;124;43m'\u001B[39;49m\u001B[38;5;124;43msource(backtest_path)\u001B[39;49m\u001B[38;5;130;43;01m\\n\u001B[39;49;00m\u001B[38;5;130;43;01m\\n\u001B[39;49;00m\u001B[38;5;124;43mvol <- result$VOL\u001B[39;49m\u001B[38;5;130;43;01m\\n\u001B[39;49;00m\u001B[38;5;124;43mrun_backtests(returns, var, es, c, VOL = vol, prefix = \u001B[39;49m\u001B[38;5;124;43m\"\u001B[39;49m\u001B[38;5;124;43mEVT_GARCH\u001B[39;49m\u001B[38;5;124;43m\"\u001B[39;49m\u001B[38;5;124;43m)\u001B[39;49m\u001B[38;5;130;43;01m\\n\u001B[39;49;00m\u001B[38;5;124;43m'\u001B[39;49m\u001B[43m)\u001B[49m\n",
      "File \u001B[1;32m~\\Anaconda\\envs\\var-es-010\\Lib\\site-packages\\IPython\\core\\interactiveshell.py:2541\u001B[0m, in \u001B[0;36mInteractiveShell.run_cell_magic\u001B[1;34m(self, magic_name, line, cell)\u001B[0m\n\u001B[0;32m   2539\u001B[0m \u001B[38;5;28;01mwith\u001B[39;00m \u001B[38;5;28mself\u001B[39m\u001B[38;5;241m.\u001B[39mbuiltin_trap:\n\u001B[0;32m   2540\u001B[0m     args \u001B[38;5;241m=\u001B[39m (magic_arg_s, cell)\n\u001B[1;32m-> 2541\u001B[0m     result \u001B[38;5;241m=\u001B[39m \u001B[43mfn\u001B[49m\u001B[43m(\u001B[49m\u001B[38;5;241;43m*\u001B[39;49m\u001B[43margs\u001B[49m\u001B[43m,\u001B[49m\u001B[43m \u001B[49m\u001B[38;5;241;43m*\u001B[39;49m\u001B[38;5;241;43m*\u001B[39;49m\u001B[43mkwargs\u001B[49m\u001B[43m)\u001B[49m\n\u001B[0;32m   2543\u001B[0m \u001B[38;5;66;03m# The code below prevents the output from being displayed\u001B[39;00m\n\u001B[0;32m   2544\u001B[0m \u001B[38;5;66;03m# when using magics with decorator @output_can_be_silenced\u001B[39;00m\n\u001B[0;32m   2545\u001B[0m \u001B[38;5;66;03m# when the last Python token in the expression is a ';'.\u001B[39;00m\n\u001B[0;32m   2546\u001B[0m \u001B[38;5;28;01mif\u001B[39;00m \u001B[38;5;28mgetattr\u001B[39m(fn, magic\u001B[38;5;241m.\u001B[39mMAGIC_OUTPUT_CAN_BE_SILENCED, \u001B[38;5;28;01mFalse\u001B[39;00m):\n",
      "File \u001B[1;32m~\\Anaconda\\envs\\var-es-010\\Lib\\site-packages\\rpy2\\ipython\\rmagic.py:984\u001B[0m, in \u001B[0;36mRMagics.R\u001B[1;34m(self, line, cell, local_ns)\u001B[0m\n\u001B[0;32m    982\u001B[0m     \u001B[38;5;28;01mif\u001B[39;00m \u001B[38;5;129;01mnot\u001B[39;00m e\u001B[38;5;241m.\u001B[39mstdout\u001B[38;5;241m.\u001B[39mendswith(e\u001B[38;5;241m.\u001B[39merr):\n\u001B[0;32m    983\u001B[0m         \u001B[38;5;28mprint\u001B[39m(e\u001B[38;5;241m.\u001B[39merr)\n\u001B[1;32m--> 984\u001B[0m     \u001B[38;5;28;01mraise\u001B[39;00m e\n\u001B[0;32m    985\u001B[0m \u001B[38;5;28;01mfinally\u001B[39;00m:\n\u001B[0;32m    986\u001B[0m     \u001B[38;5;28;01mif\u001B[39;00m \u001B[38;5;28mself\u001B[39m\u001B[38;5;241m.\u001B[39mdevice \u001B[38;5;129;01min\u001B[39;00m DEVICES_STATIC:\n",
      "File \u001B[1;32m~\\Anaconda\\envs\\var-es-010\\Lib\\site-packages\\rpy2\\ipython\\rmagic.py:949\u001B[0m, in \u001B[0;36mRMagics.R\u001B[1;34m(self, line, cell, local_ns)\u001B[0m\n\u001B[0;32m    947\u001B[0m         return_output \u001B[38;5;241m=\u001B[39m \u001B[38;5;28;01mFalse\u001B[39;00m\n\u001B[0;32m    948\u001B[0m \u001B[38;5;28;01melse\u001B[39;00m:\n\u001B[1;32m--> 949\u001B[0m     text_result, result, visible \u001B[38;5;241m=\u001B[39m \u001B[38;5;28;43mself\u001B[39;49m\u001B[38;5;241;43m.\u001B[39;49m\u001B[43meval\u001B[49m\u001B[43m(\u001B[49m\u001B[43mcode\u001B[49m\u001B[43m)\u001B[49m\n\u001B[0;32m    950\u001B[0m     text_output \u001B[38;5;241m+\u001B[39m\u001B[38;5;241m=\u001B[39m text_result\n\u001B[0;32m    951\u001B[0m     \u001B[38;5;28;01mif\u001B[39;00m visible:\n",
      "File \u001B[1;32m~\\Anaconda\\envs\\var-es-010\\Lib\\site-packages\\rpy2\\ipython\\rmagic.py:413\u001B[0m, in \u001B[0;36mRMagics.eval\u001B[1;34m(self, code)\u001B[0m\n\u001B[0;32m    410\u001B[0m \u001B[38;5;28;01mexcept\u001B[39;00m (ri\u001B[38;5;241m.\u001B[39membedded\u001B[38;5;241m.\u001B[39mRRuntimeError, \u001B[38;5;167;01mValueError\u001B[39;00m) \u001B[38;5;28;01mas\u001B[39;00m exception:\n\u001B[0;32m    411\u001B[0m     \u001B[38;5;66;03m# Otherwise next return seems to have copy of error.\u001B[39;00m\n\u001B[0;32m    412\u001B[0m     warning_or_other_msg \u001B[38;5;241m=\u001B[39m \u001B[38;5;28mself\u001B[39m\u001B[38;5;241m.\u001B[39mflush()\n\u001B[1;32m--> 413\u001B[0m     \u001B[38;5;28;01mraise\u001B[39;00m RInterpreterError(code, \u001B[38;5;28mstr\u001B[39m(exception),\n\u001B[0;32m    414\u001B[0m                             warning_or_other_msg)\n\u001B[0;32m    415\u001B[0m \u001B[38;5;28;01mfinally\u001B[39;00m:\n\u001B[0;32m    416\u001B[0m     ro\u001B[38;5;241m.\u001B[39m_print_deferred_warnings()\n",
      "\u001B[1;31mRInterpreterError\u001B[0m: Failed to parse and evaluate line 'source(backtest_path)\\n\\nvol <- result$VOL\\nrun_backtests(returns, var, es, c, VOL = vol, prefix = \"EVT_GARCH\")\\n'.\nR error message: 'Error in `[.default`(n, 2, 2) : subscript out of bounds'"
     ]
    }
   ],
   "source": [
    "%%R\n",
    "source(backtest_path)\n",
    "\n",
    "vol <- result$VOL\n",
    "run_backtests(returns, var, es, c, VOL = vol, prefix = \"EVT_GARCH\")"
   ],
   "metadata": {
    "collapsed": false,
    "ExecuteTime": {
     "end_time": "2024-11-29T15:29:29.635237800Z",
     "start_time": "2024-11-29T15:29:29.512573300Z"
    }
   },
   "id": "944ecc4d9ae8397e",
   "execution_count": 32
  },
  {
   "cell_type": "code",
   "outputs": [
    {
     "name": "stdout",
     "output_type": "stream",
     "text": [
      "Error in value[[3L]](cond) : \n",
      "  error while calling `package.skeleton` : no R objects specified or available\n",
      "In addition: Warning message:\n",
      "In package.skeleton(name = \"caviar\", list = \"Rcpp.fake.fun\") :\n",
      "  object ''Rcpp.fake.fun'' not found\n",
      "Error in value[[3L]](cond) : \n",
      "  error while calling `package.skeleton` : no R objects specified or available\n"
     ]
    },
    {
     "ename": "RInterpreterError",
     "evalue": "Failed to parse and evaluate line 'source(caviar_path)\\n\\nresult <- forecast_u_CAViaR(df, c, n, m, r = 100, var_model = \"SAV\", es_model=\"AR\")\\n\\nvar <- -result$VaR\\nVaRplot(c, returns, var)\\nwarnings()\\n'.\nR error message: 'Error in value[[3L]](cond) : \\n  error while calling `package.skeleton` : no R objects specified or available'\nR stdout:\nError in value[[3L]](cond) : \n  error while calling `package.skeleton` : no R objects specified or available\nIn addition: Warning message:\nIn package.skeleton(name = \"caviar\", list = \"Rcpp.fake.fun\") :\n  object ''Rcpp.fake.fun'' not found",
     "output_type": "error",
     "traceback": [
      "\u001B[1;31m---------------------------------------------------------------------------\u001B[0m",
      "\u001B[1;31mRRuntimeError\u001B[0m                             Traceback (most recent call last)",
      "File \u001B[1;32m~\\Anaconda\\envs\\var-es-010\\Lib\\site-packages\\rpy2\\ipython\\rmagic.py:407\u001B[0m, in \u001B[0;36mRMagics.eval\u001B[1;34m(self, code)\u001B[0m\n\u001B[0;32m    406\u001B[0m     r_expr \u001B[38;5;241m=\u001B[39m ri\u001B[38;5;241m.\u001B[39mparse(code)\n\u001B[1;32m--> 407\u001B[0m     value, visible \u001B[38;5;241m=\u001B[39m \u001B[43mri\u001B[49m\u001B[38;5;241;43m.\u001B[39;49m\u001B[43mevalr_expr_with_visible\u001B[49m\u001B[43m(\u001B[49m\n\u001B[0;32m    408\u001B[0m \u001B[43m        \u001B[49m\u001B[43mr_expr\u001B[49m\n\u001B[0;32m    409\u001B[0m \u001B[43m    \u001B[49m\u001B[43m)\u001B[49m\n\u001B[0;32m    410\u001B[0m \u001B[38;5;28;01mexcept\u001B[39;00m (ri\u001B[38;5;241m.\u001B[39membedded\u001B[38;5;241m.\u001B[39mRRuntimeError, \u001B[38;5;167;01mValueError\u001B[39;00m) \u001B[38;5;28;01mas\u001B[39;00m exception:\n\u001B[0;32m    411\u001B[0m     \u001B[38;5;66;03m# Otherwise next return seems to have copy of error.\u001B[39;00m\n",
      "File \u001B[1;32m~\\Anaconda\\envs\\var-es-010\\Lib\\site-packages\\rpy2\\rinterface.py:192\u001B[0m, in \u001B[0;36mevalr_expr_with_visible\u001B[1;34m(expr, envir)\u001B[0m\n\u001B[0;32m    191\u001B[0m \u001B[38;5;28;01mif\u001B[39;00m error_occured[\u001B[38;5;241m0\u001B[39m]:\n\u001B[1;32m--> 192\u001B[0m     \u001B[38;5;28;01mraise\u001B[39;00m embedded\u001B[38;5;241m.\u001B[39mRRuntimeError(_rinterface\u001B[38;5;241m.\u001B[39m_geterrmessage())\n\u001B[0;32m    193\u001B[0m res \u001B[38;5;241m=\u001B[39m conversion\u001B[38;5;241m.\u001B[39m_cdata_to_rinterface(r_res)\n",
      "\u001B[1;31mRRuntimeError\u001B[0m: Error in value[[3L]](cond) : \n  error while calling `package.skeleton` : no R objects specified or available\n",
      "\nDuring handling of the above exception, another exception occurred:\n",
      "\u001B[1;31mRInterpreterError\u001B[0m                         Traceback (most recent call last)",
      "Cell \u001B[1;32mIn[11], line 1\u001B[0m\n\u001B[1;32m----> 1\u001B[0m \u001B[43mget_ipython\u001B[49m\u001B[43m(\u001B[49m\u001B[43m)\u001B[49m\u001B[38;5;241;43m.\u001B[39;49m\u001B[43mrun_cell_magic\u001B[49m\u001B[43m(\u001B[49m\u001B[38;5;124;43m'\u001B[39;49m\u001B[38;5;124;43mR\u001B[39;49m\u001B[38;5;124;43m'\u001B[39;49m\u001B[43m,\u001B[49m\u001B[43m \u001B[49m\u001B[38;5;124;43m'\u001B[39;49m\u001B[38;5;124;43m'\u001B[39;49m\u001B[43m,\u001B[49m\u001B[43m \u001B[49m\u001B[38;5;124;43m'\u001B[39;49m\u001B[38;5;124;43msource(caviar_path)\u001B[39;49m\u001B[38;5;130;43;01m\\n\u001B[39;49;00m\u001B[38;5;130;43;01m\\n\u001B[39;49;00m\u001B[38;5;124;43mresult <- forecast_u_CAViaR(df, c, n, m, r = 100, var_model = \u001B[39;49m\u001B[38;5;124;43m\"\u001B[39;49m\u001B[38;5;124;43mSAV\u001B[39;49m\u001B[38;5;124;43m\"\u001B[39;49m\u001B[38;5;124;43m, es_model=\u001B[39;49m\u001B[38;5;124;43m\"\u001B[39;49m\u001B[38;5;124;43mAR\u001B[39;49m\u001B[38;5;124;43m\"\u001B[39;49m\u001B[38;5;124;43m)\u001B[39;49m\u001B[38;5;130;43;01m\\n\u001B[39;49;00m\u001B[38;5;130;43;01m\\n\u001B[39;49;00m\u001B[38;5;124;43mvar <- -result$VaR\u001B[39;49m\u001B[38;5;130;43;01m\\n\u001B[39;49;00m\u001B[38;5;124;43mVaRplot(c, returns, var)\u001B[39;49m\u001B[38;5;130;43;01m\\n\u001B[39;49;00m\u001B[38;5;124;43mwarnings()\u001B[39;49m\u001B[38;5;130;43;01m\\n\u001B[39;49;00m\u001B[38;5;124;43m'\u001B[39;49m\u001B[43m)\u001B[49m\n",
      "File \u001B[1;32m~\\Anaconda\\envs\\var-es-010\\Lib\\site-packages\\IPython\\core\\interactiveshell.py:2541\u001B[0m, in \u001B[0;36mInteractiveShell.run_cell_magic\u001B[1;34m(self, magic_name, line, cell)\u001B[0m\n\u001B[0;32m   2539\u001B[0m \u001B[38;5;28;01mwith\u001B[39;00m \u001B[38;5;28mself\u001B[39m\u001B[38;5;241m.\u001B[39mbuiltin_trap:\n\u001B[0;32m   2540\u001B[0m     args \u001B[38;5;241m=\u001B[39m (magic_arg_s, cell)\n\u001B[1;32m-> 2541\u001B[0m     result \u001B[38;5;241m=\u001B[39m \u001B[43mfn\u001B[49m\u001B[43m(\u001B[49m\u001B[38;5;241;43m*\u001B[39;49m\u001B[43margs\u001B[49m\u001B[43m,\u001B[49m\u001B[43m \u001B[49m\u001B[38;5;241;43m*\u001B[39;49m\u001B[38;5;241;43m*\u001B[39;49m\u001B[43mkwargs\u001B[49m\u001B[43m)\u001B[49m\n\u001B[0;32m   2543\u001B[0m \u001B[38;5;66;03m# The code below prevents the output from being displayed\u001B[39;00m\n\u001B[0;32m   2544\u001B[0m \u001B[38;5;66;03m# when using magics with decorator @output_can_be_silenced\u001B[39;00m\n\u001B[0;32m   2545\u001B[0m \u001B[38;5;66;03m# when the last Python token in the expression is a ';'.\u001B[39;00m\n\u001B[0;32m   2546\u001B[0m \u001B[38;5;28;01mif\u001B[39;00m \u001B[38;5;28mgetattr\u001B[39m(fn, magic\u001B[38;5;241m.\u001B[39mMAGIC_OUTPUT_CAN_BE_SILENCED, \u001B[38;5;28;01mFalse\u001B[39;00m):\n",
      "File \u001B[1;32m~\\Anaconda\\envs\\var-es-010\\Lib\\site-packages\\rpy2\\ipython\\rmagic.py:984\u001B[0m, in \u001B[0;36mRMagics.R\u001B[1;34m(self, line, cell, local_ns)\u001B[0m\n\u001B[0;32m    982\u001B[0m     \u001B[38;5;28;01mif\u001B[39;00m \u001B[38;5;129;01mnot\u001B[39;00m e\u001B[38;5;241m.\u001B[39mstdout\u001B[38;5;241m.\u001B[39mendswith(e\u001B[38;5;241m.\u001B[39merr):\n\u001B[0;32m    983\u001B[0m         \u001B[38;5;28mprint\u001B[39m(e\u001B[38;5;241m.\u001B[39merr)\n\u001B[1;32m--> 984\u001B[0m     \u001B[38;5;28;01mraise\u001B[39;00m e\n\u001B[0;32m    985\u001B[0m \u001B[38;5;28;01mfinally\u001B[39;00m:\n\u001B[0;32m    986\u001B[0m     \u001B[38;5;28;01mif\u001B[39;00m \u001B[38;5;28mself\u001B[39m\u001B[38;5;241m.\u001B[39mdevice \u001B[38;5;129;01min\u001B[39;00m DEVICES_STATIC:\n",
      "File \u001B[1;32m~\\Anaconda\\envs\\var-es-010\\Lib\\site-packages\\rpy2\\ipython\\rmagic.py:949\u001B[0m, in \u001B[0;36mRMagics.R\u001B[1;34m(self, line, cell, local_ns)\u001B[0m\n\u001B[0;32m    947\u001B[0m         return_output \u001B[38;5;241m=\u001B[39m \u001B[38;5;28;01mFalse\u001B[39;00m\n\u001B[0;32m    948\u001B[0m \u001B[38;5;28;01melse\u001B[39;00m:\n\u001B[1;32m--> 949\u001B[0m     text_result, result, visible \u001B[38;5;241m=\u001B[39m \u001B[38;5;28;43mself\u001B[39;49m\u001B[38;5;241;43m.\u001B[39;49m\u001B[43meval\u001B[49m\u001B[43m(\u001B[49m\u001B[43mcode\u001B[49m\u001B[43m)\u001B[49m\n\u001B[0;32m    950\u001B[0m     text_output \u001B[38;5;241m+\u001B[39m\u001B[38;5;241m=\u001B[39m text_result\n\u001B[0;32m    951\u001B[0m     \u001B[38;5;28;01mif\u001B[39;00m visible:\n",
      "File \u001B[1;32m~\\Anaconda\\envs\\var-es-010\\Lib\\site-packages\\rpy2\\ipython\\rmagic.py:413\u001B[0m, in \u001B[0;36mRMagics.eval\u001B[1;34m(self, code)\u001B[0m\n\u001B[0;32m    410\u001B[0m \u001B[38;5;28;01mexcept\u001B[39;00m (ri\u001B[38;5;241m.\u001B[39membedded\u001B[38;5;241m.\u001B[39mRRuntimeError, \u001B[38;5;167;01mValueError\u001B[39;00m) \u001B[38;5;28;01mas\u001B[39;00m exception:\n\u001B[0;32m    411\u001B[0m     \u001B[38;5;66;03m# Otherwise next return seems to have copy of error.\u001B[39;00m\n\u001B[0;32m    412\u001B[0m     warning_or_other_msg \u001B[38;5;241m=\u001B[39m \u001B[38;5;28mself\u001B[39m\u001B[38;5;241m.\u001B[39mflush()\n\u001B[1;32m--> 413\u001B[0m     \u001B[38;5;28;01mraise\u001B[39;00m RInterpreterError(code, \u001B[38;5;28mstr\u001B[39m(exception),\n\u001B[0;32m    414\u001B[0m                             warning_or_other_msg)\n\u001B[0;32m    415\u001B[0m \u001B[38;5;28;01mfinally\u001B[39;00m:\n\u001B[0;32m    416\u001B[0m     ro\u001B[38;5;241m.\u001B[39m_print_deferred_warnings()\n",
      "\u001B[1;31mRInterpreterError\u001B[0m: Failed to parse and evaluate line 'source(caviar_path)\\n\\nresult <- forecast_u_CAViaR(df, c, n, m, r = 100, var_model = \"SAV\", es_model=\"AR\")\\n\\nvar <- -result$VaR\\nVaRplot(c, returns, var)\\nwarnings()\\n'.\nR error message: 'Error in value[[3L]](cond) : \\n  error while calling `package.skeleton` : no R objects specified or available'\nR stdout:\nError in value[[3L]](cond) : \n  error while calling `package.skeleton` : no R objects specified or available\nIn addition: Warning message:\nIn package.skeleton(name = \"caviar\", list = \"Rcpp.fake.fun\") :\n  object ''Rcpp.fake.fun'' not found"
     ]
    }
   ],
   "source": [
    "%%R\n",
    "source(caviar_path)\n",
    "\n",
    "result <- forecast_u_CAViaR(df, c, n, m, r = 100, var_model = \"SAV\", es_model=\"AR\")\n",
    "\n",
    "var <- -result$VaR\n",
    "VaRplot(c, returns, var)\n",
    "warnings()"
   ],
   "metadata": {
    "collapsed": false,
    "ExecuteTime": {
     "end_time": "2024-11-30T02:09:22.787302700Z",
     "start_time": "2024-11-30T02:09:22.236910100Z"
    }
   },
   "id": "10c252000bd46fa2",
   "execution_count": 11
  },
  {
   "cell_type": "code",
   "outputs": [
    {
     "data": {
      "image/png": "[encoded data removed]",
      "text/plain": "<IPython.core.display.Image object>"
     },
     "metadata": {},
     "output_type": "display_data"
    }
   ],
   "source": [
    "%%R\n",
    "\n",
    "es <- -result$ES\n",
    "print(plot_var_es(dates, returns, var, es))"
   ],
   "metadata": {
    "collapsed": false,
    "ExecuteTime": {
     "end_time": "2024-11-30T01:04:24.643208Z",
     "start_time": "2024-11-30T01:04:24.373602100Z"
    }
   },
   "id": "1f4ef114d36804f6",
   "execution_count": 51
  },
  {
   "cell_type": "code",
   "outputs": [
    {
     "name": "stdout",
     "output_type": "stream",
     "text": [
      "       ExpectedExceedances ActualExceedances        UC        CC       VDT ER\n",
      "CAVIAR                  10                 6 0.1621867 0.3124166 0.4839754  0\n",
      "              ER_2          CoC      ESR1      ESR2      ESR3\n",
      "CAVIAR 0.007346433 0.0002203004 0.9565512 0.9861911 0.6250224\n"
     ]
    }
   ],
   "source": [
    "%%R\n",
    "source(backtest_path)\n",
    "\n",
    "vol <- result$VOL\n",
    "run_backtests(returns, var, es, c, prefix = \"CAVIAR\")"
   ],
   "metadata": {
    "collapsed": false,
    "ExecuteTime": {
     "end_time": "2024-11-30T01:04:27.368954300Z",
     "start_time": "2024-11-30T01:04:26.732844100Z"
    }
   },
   "id": "a0a09ddaf521f2cb",
   "execution_count": 52
  }
 ],
 "metadata": {
  "kernelspec": {
   "name": "python3",
   "language": "python",
   "display_name": "Python 3 (ipykernel)"
  },
  "language_info": {
   "codemirror_mode": {
    "name": "ipython",
    "version": 2
   },
   "file_extension": ".py",
   "mimetype": "text/x-python",
   "name": "python",
   "nbconvert_exporter": "python",
   "pygments_lexer": "ipython2",
   "version": "2.7.6"
  }
 },
 "nbformat": 4,
 "nbformat_minor": 5
}
