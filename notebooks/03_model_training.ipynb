{
 "cells": [
  {
   "cell_type": "code",
   "execution_count": 2,
   "id": "initial_id",
   "metadata": {
    "collapsed": true,
    "ExecuteTime": {
     "end_time": "2024-11-18T17:52:44.456575100Z",
     "start_time": "2024-11-18T17:52:41.500619500Z"
    }
   },
   "outputs": [
    {
     "name": "stdout",
     "output_type": "stream",
     "text": [
      "- renv activated -- please restart the R session.\n"
     ]
    },
    {
     "name": "stderr",
     "output_type": "stream",
     "text": [
      "C:\\Users\\chris\\Anaconda\\envs\\var-es-010\\Lib\\site-packages\\rpy2\\robjects\\packages.py:367: UserWarning: The symbol 'quartz' is not in this R namespace/package.\n",
      "  warnings.warn(\n"
     ]
    }
   ],
   "source": [
    "from pathlib import Path\n",
    "\n",
    "import matplotlib.pyplot as plt\n",
    "from arch import arch_model\n",
    "\n",
    "from scripts.renv_utils import activate_renv\n",
    "from var_es_toolbox.data import load_data\n",
    "from var_es_toolbox.models import forecast_ugarch\n",
    "\n",
    "activate_renv()\n",
    "from rpy2.robjects import pandas2ri, globalenv\n",
    "%load_ext rpy2.ipython"
   ]
  },
  {
   "cell_type": "code",
   "outputs": [],
   "source": [
    "project_dir = Path.cwd().parent\n",
    "# Asset\n",
    "asset = \"DPc1_return\"\n",
    "globalenv[\"asset\"] = str(asset)\n",
    "\n",
    "# Retrieve data\n",
    "data_dir = project_dir / \"data\"\n",
    "data_cleaned_name = \"refinitiv_data_merged.csv\"\n",
    "date_format = \"ISO8601\"\n",
    "data_cleaned = load_data(data_dir / data_cleaned_name, date_format=date_format)\n",
    "futures_returns = data_cleaned[asset].dropna()\n",
    "\n",
    "# Retrieve r model\n",
    "models_dir = project_dir / \"src\" / \"var_es_toolbox\" / \"models\"\n",
    "r_arch_models_path = models_dir / \"r_arch_models.R\"\n",
    "r_hybrid_evt_models_path = models_dir / \"r_hybrid_evt_models.R\"\n",
    "r_non_param_path = models_dir / \"non_parametric_models.R\"\n",
    "r_gas_models_path = models_dir / \"r_gas_models.R\"\n",
    "r_caviar_models_path = models_dir / \"r_caviar_models.R\"\n",
    "\n",
    "globalenv['r_non_param_path'] = str(r_non_param_path)\n",
    "globalenv['r_arch_models_path'] = str(r_arch_models_path)\n",
    "globalenv['r_hybrid_evt_models_path'] = str(r_hybrid_evt_models_path)\n",
    "globalenv['r_gas_models_path'] = str(r_gas_models_path)\n",
    "globalenv['r_caviar_models_path'] = str(r_caviar_models_path)\n",
    "\n",
    "# r.source(str(r_arch_models_path))\n",
    "# r.source(str(r_hybrid_evt_models_path))\n",
    "# r.source(str(r_non_param_path))\n",
    "# r.source(str(r_gas_models_path))\n",
    "# r.source(str(r_caviar_models_path))\n",
    "\n",
    "c = 0.05\n",
    "t = 0.95\n",
    "p = 1\n",
    "q = 1\n",
    "m = 1000\n",
    "n = 200\n",
    "refit = 10\n",
    "\n",
    "globalenv['df'] = pandas2ri.py2rpy(futures_returns.reset_index())\n",
    "globalenv['df_all'] = pandas2ri.py2rpy(data_cleaned.reset_index())\n",
    "globalenv['c'] = c\n",
    "globalenv['p'] = p\n",
    "globalenv['q'] = q\n",
    "globalenv['m'] = m\n",
    "globalenv['n'] = n\n",
    "globalenv['refit'] = refit"
   ],
   "metadata": {
    "collapsed": false,
    "ExecuteTime": {
     "end_time": "2024-11-18T17:52:44.651759800Z",
     "start_time": "2024-11-18T17:52:44.453535600Z"
    }
   },
   "id": "4f37f691f0baa3c2",
   "execution_count": 3
  },
  {
   "cell_type": "code",
   "outputs": [
    {
     "name": "stdout",
     "output_type": "stream",
     "text": [
      "                         vars    n    mean     sd  median trimmed    mad    min\n",
      "Date                        1 2876     NaN     NA      NA     NaN     NA    Inf\n",
      "DBc1                        2 1423  107.77 100.52   77.98   87.17  55.63   2.44\n",
      "DBc1_return                 3 1423    0.00   0.34    0.00    0.00   0.19  -2.43\n",
      "DPc1                        4 1420  112.94 106.51   78.10   91.18  55.29   0.01\n",
      "DPc1_return                 5 1419    0.00   0.51    0.00    0.00   0.23  -7.70\n",
      "DEBMc1                      6 1923   84.83  78.94   54.37   67.64  32.88  15.74\n",
      "DEBMc1_return               7 1922    0.00   0.05    0.00    0.00   0.02  -0.50\n",
      "DEPMc1                      8 1922   97.47  90.71   61.61   77.28  33.77  13.82\n",
      "DEPMc1_return               9 1921    0.00   0.05    0.00    0.00   0.02  -0.41\n",
      "DEBQc1                     10 1921  104.73 114.74   56.63   77.48  33.98  19.99\n",
      "DEBQc1_return              11 1920    0.00   0.04    0.00    0.00   0.02  -0.44\n",
      "DEPQc1                     12 1923  128.11 154.40   64.87   90.64  35.14  23.42\n",
      "DEPQc1_return              13 1922    0.00   0.05    0.00    0.00   0.02  -0.57\n",
      "DEBYc1                     14 1923  100.18 100.68   53.77   77.07  28.45  28.76\n",
      "DEBYc1_return              15 1922    0.00   0.03    0.00    0.00   0.02  -0.60\n",
      "DEPYc1                     16 1923  125.45 140.53   65.36   91.96  32.20  36.55\n",
      "DEPYc1_return              17 1922    0.00   0.03    0.00    0.00   0.01  -0.64\n",
      "Total electricity supply   18 2861 1519.86 237.54 1516.79 1519.69 253.58 371.88\n",
      "Total electricity demand   19 2861 1460.31 161.55 1459.15 1461.93 165.85 506.00\n",
      "                             max   range  skew kurtosis   se\n",
      "Date                        -Inf    -Inf    NA       NA   NA\n",
      "DBc1                      699.44  697.00  2.31     6.26 2.66\n",
      "DBc1_return                 2.14    4.57  0.09     8.90 0.01\n",
      "DPc1                      731.01  731.00  2.24     5.73 2.83\n",
      "DPc1_return                 7.92   15.61  0.22    81.77 0.01\n",
      "DEBMc1                    474.04  458.30  2.35     5.92 1.80\n",
      "DEBMc1_return               0.60    1.09  2.66    39.57 0.00\n",
      "DEPMc1                    554.00  540.18  2.24     4.99 2.07\n",
      "DEPMc1_return               0.59    1.00  2.67    36.43 0.00\n",
      "DEBQc1                    993.00  973.01  2.78     9.21 2.62\n",
      "DEBQc1_return               0.38    0.82  0.12    16.86 0.00\n",
      "DEPQc1                   1284.86 1261.44  3.10    11.35 3.52\n",
      "DEPQc1_return               0.41    0.97  0.32    30.03 0.00\n",
      "DEBYc1                    985.00  956.24  2.86    10.43 2.30\n",
      "DEBYc1_return               0.27    0.88 -3.60    77.04 0.00\n",
      "DEPYc1                   1295.00 1258.45  3.23    12.88 3.20\n",
      "DEPYc1_return               0.21    0.85 -5.23   130.76 0.00\n",
      "Total electricity supply 2170.59 1798.71 -0.03    -0.36 4.44\n",
      "Total electricity demand 1873.07 1367.07 -0.13    -0.24 3.02\n"
     ]
    },
    {
     "data": {
      "text/plain": "Loading required package: parallel\n\nAttaching package: 'rugarch'\n\nThe following object is masked from 'package:stats':\n\n    sigma\n\nLoading required package: zoo\n\nAttaching package: 'zoo'\n\nThe following objects are masked from 'package:base':\n\n    as.Date, as.Date.numeric\n\n\nAttaching package: 'ggplot2'\n\nThe following objects are masked from 'package:psych':\n\n    %+%, alpha\n\n\n######################### Warning from 'xts' package ##########################\n#                                                                             #\n# The dplyr lag() function breaks how base R's lag() function is supposed to  #\n# work, which breaks lag(my_xts). Calls to lag(my_xts) that you type or       #\n# source() into this session won't work correctly.                            #\n#                                                                             #\n# Use stats::lag() to make sure you're not using dplyr::lag(), or you can add #\n# conflictRules('dplyr', exclude = 'lag') to your .Rprofile to stop           #\n# dplyr from breaking base R's lag() function.                                #\n#                                                                             #\n# Code in packages is not affected. It's protected by R's namespace mechanism #\n# Set `options(xts.warn_dplyr_breaks_lag = FALSE)` to suppress this warning.  #\n#                                                                             #\n###############################################################################\n\nAttaching package: 'dplyr'\n\nThe following objects are masked from 'package:xts':\n\n    first, last\n\nThe following objects are masked from 'package:stats':\n\n    filter, lag\n\nThe following objects are masked from 'package:base':\n\n    intersect, setdiff, setequal, union\n\nIn addition: Warning messages:\n1: package 'psych' was built under R version 4.4.2 \n2: In FUN(newX[, i], ...) : no non-missing arguments to min; returning Inf\n3: In FUN(newX[, i], ...) :\n  no non-missing arguments to max; returning -Inf\n"
     },
     "metadata": {},
     "output_type": "display_data"
    }
   ],
   "source": [
    "%%R\n",
    "library(rugarch)\n",
    "library(xts)\n",
    "library(psych)\n",
    "library(ggplot2)             \n",
    "library(parallel)\n",
    "library(dplyr)\n",
    "\n",
    "names(df)[names(df) == asset] <- \"Return\"\n",
    "dates <- tail(df$Date, n)\n",
    "returns <- xts(tail(df$Return, n), order.by = dates)\n",
    "\n",
    "desc_stat <- psych::describe(df_all)\n",
    "print(desc_stat)\n",
    "\n",
    "ggplot(df, aes(x=Date, y=Return)) +\n",
    "    geom_line(color=\"blue\") +\n",
    "    ggtitle(\"DBc1 Returns\") +\n",
    "    xlab(\"Date\") +\n",
    "    ylab(\"Return (%)\")\n",
    "    \n",
    "# Define the function for plotting returns, VaR, and ES\n",
    "plot_var_es <- function(dates, returns, var, es) {\n",
    "  # Create a data frame for plotting\n",
    "  plot_data <- data.frame(\n",
    "    Date = dates,\n",
    "    Return = returns,\n",
    "    VaR = var,\n",
    "    ES = es\n",
    "  )\n",
    "  \n",
    "  # Generate the plot using ggplot2 with labels\n",
    "  ggplot(plot_data, aes(x = Date)) +\n",
    "    geom_line(aes(y = Return, color = \"Return\"), linewidth = 0.7, alpha = 0.8) +    # Actual returns\n",
    "    geom_line(aes(y = VaR, color = \"VaR\"), linetype = \"dashed\", linewidth = 0.7) + # VaR\n",
    "    geom_line(aes(y = ES, color = \"ES\"), linetype = \"dotted\", linewidth = 0.7) +   # ES\n",
    "    ggtitle(\"Actual Returns vs. VaR and ES\") +\n",
    "    xlab(\"Date\") +\n",
    "    ylab(\"Returns / VaR / ES\") +\n",
    "    theme_minimal() +\n",
    "    theme(\n",
    "      plot.title = element_text(hjust = 0.5),\n",
    "      legend.position = \"top\"\n",
    "    ) +\n",
    "    scale_color_manual(values = c(\"Return\" = \"blue\", \"VaR\" = \"red\", \"ES\" = \"darkorange\")) +\n",
    "    scale_y_continuous(labels = scales::percent) +\n",
    "    labs(color = \"Legend\")\n",
    "}"
   ],
   "metadata": {
    "collapsed": false,
    "ExecuteTime": {
     "end_time": "2024-11-18T17:52:46.297181300Z",
     "start_time": "2024-11-18T17:52:44.650753800Z"
    }
   },
   "id": "c177a593e9018364",
   "execution_count": 4
  },
  {
   "cell_type": "code",
   "outputs": [
    {
     "name": "stdout",
     "output_type": "stream",
     "text": [
      "$expected.exceed\n",
      "[1] 10\n",
      "\n",
      "$actual.exceed\n",
      "[1] 23\n",
      "\n",
      "$uc.H0\n",
      "[1] \"Correct Exceedances\"\n",
      "\n",
      "$uc.LRstat\n",
      "[1] 13.2243\n",
      "\n",
      "$uc.critical\n",
      "[1] 3.841459\n",
      "\n",
      "$uc.LRp\n",
      "[1] 0.0002763424\n",
      "\n",
      "$uc.Decision\n",
      "[1] \"Reject H0\"\n",
      "\n",
      "$cc.H0\n",
      "[1] \"Correct Exceedances & Independent\"\n",
      "\n",
      "$cc.LRstat\n",
      "[1] 14.86656\n",
      "\n",
      "$cc.critical\n",
      "[1] 5.991465\n",
      "\n",
      "$cc.LRp\n",
      "[1] 0.0005912448\n",
      "\n",
      "$cc.Decision\n",
      "[1] \"Reject H0\"\n",
      "\n",
      "$expected.exceed\n",
      "[1] 10\n",
      "\n",
      "$actual.exceed\n",
      "[1] 23\n",
      "\n",
      "$H1\n",
      "[1] \"Mean of Excess Violations of VaR is greater than zero\"\n",
      "\n",
      "$boot.p.value\n",
      "[1] NA\n",
      "\n",
      "$p.value\n",
      "[1] 0.3825351\n",
      "\n",
      "$Decision\n",
      "[1] \"Fail to Reject H0\"\n"
     ]
    },
    {
     "data": {
      "text/plain": "\nCalculations completed.\n\n"
     },
     "metadata": {},
     "output_type": "display_data"
    },
    {
     "data": {
      "image/png": "[encoded data removed]",
      "text/plain": "<IPython.core.display.Image object>"
     },
     "metadata": {},
     "output_type": "display_data"
    }
   ],
   "source": [
    "%%R\n",
    "source(r_non_param_path)\n",
    "\n",
    "result <- forecast_u_HS_var(df, c, n, m)\n",
    "\n",
    "var <- -result$VaR\n",
    "VaRplot(c, returns, var)\n",
    "print(VaRTest(c, returns, var))\n",
    "\n",
    "es <- -result$ES\n",
    "print(ESTest(c, returns, es, var))\n",
    "\n",
    "plot_var_es(dates, returns, var, es)"
   ],
   "metadata": {
    "collapsed": false,
    "ExecuteTime": {
     "end_time": "2024-11-18T18:12:52.782770200Z",
     "start_time": "2024-11-18T18:12:52.531334900Z"
    }
   },
   "id": "ea859d057883c225",
   "execution_count": 11
  },
  {
   "cell_type": "code",
   "outputs": [
    {
     "name": "stdout",
     "output_type": "stream",
     "text": [
      "$expected.exceed\n",
      "[1] 10\n",
      "\n",
      "$actual.exceed\n",
      "[1] 18\n",
      "\n",
      "$uc.H0\n",
      "[1] \"Correct Exceedances\"\n",
      "\n",
      "$uc.LRstat\n",
      "[1] 5.501992\n",
      "\n",
      "$uc.critical\n",
      "[1] 3.841459\n",
      "\n",
      "$uc.LRp\n",
      "[1] 0.01899483\n",
      "\n",
      "$uc.Decision\n",
      "[1] \"Reject H0\"\n",
      "\n",
      "$cc.H0\n",
      "[1] \"Correct Exceedances & Independent\"\n",
      "\n",
      "$cc.LRstat\n",
      "[1] 5.833391\n",
      "\n",
      "$cc.critical\n",
      "[1] 5.991465\n",
      "\n",
      "$cc.LRp\n",
      "[1] 0.05411222\n",
      "\n",
      "$cc.Decision\n",
      "[1] \"Fail to Reject H0\"\n",
      "\n",
      "$expected.exceed\n",
      "[1] 10\n",
      "\n",
      "$actual.exceed\n",
      "[1] 18\n",
      "\n",
      "$H1\n",
      "[1] \"Mean of Excess Violations of VaR is greater than zero\"\n",
      "\n",
      "$boot.p.value\n",
      "[1] NA\n",
      "\n",
      "$p.value\n",
      "[1] 0.5752495\n",
      "\n",
      "$Decision\n",
      "[1] \"Fail to Reject H0\"\n"
     ]
    },
    {
     "data": {
      "text/plain": "\nCalculations completed.\n\n"
     },
     "metadata": {},
     "output_type": "display_data"
    },
    {
     "data": {
      "image/png": "[encoded data removed]",
      "text/plain": "<IPython.core.display.Image object>"
     },
     "metadata": {},
     "output_type": "display_data"
    }
   ],
   "source": [
    "%%R\n",
    "source(r_non_param_path)\n",
    "\n",
    "result <- forecast_u_FHS_GARCH_var(df, c, n, m, b = 100)\n",
    "\n",
    "var <- -result$VaR\n",
    "VaRplot(c, returns, var)\n",
    "print(VaRTest(c, returns, var))\n",
    "\n",
    "es <- -result$ES\n",
    "print(ESTest(c, returns, es, var))\n",
    "\n",
    "plot_var_es(dates, returns, var, es)"
   ],
   "metadata": {
    "collapsed": false,
    "ExecuteTime": {
     "end_time": "2024-11-18T18:13:08.856285500Z",
     "start_time": "2024-11-18T18:12:54.871124100Z"
    }
   },
   "id": "3fc10623c596b90d",
   "execution_count": 12
  },
  {
   "cell_type": "code",
   "outputs": [
    {
     "name": "stdout",
     "output_type": "stream",
     "text": [
      "$expected.exceed\n",
      "[1] 10\n",
      "\n",
      "$actual.exceed\n",
      "[1] 24\n",
      "\n",
      "$uc.H0\n",
      "[1] \"Correct Exceedances\"\n",
      "\n",
      "$uc.LRstat\n",
      "[1] 15.08039\n",
      "\n",
      "$uc.critical\n",
      "[1] 3.841459\n",
      "\n",
      "$uc.LRp\n",
      "[1] 0.0001030279\n",
      "\n",
      "$uc.Decision\n",
      "[1] \"Reject H0\"\n",
      "\n",
      "$cc.H0\n",
      "[1] \"Correct Exceedances & Independent\"\n",
      "\n",
      "$cc.LRstat\n",
      "[1] 21.68404\n",
      "\n",
      "$cc.critical\n",
      "[1] 5.991465\n",
      "\n",
      "$cc.LRp\n",
      "[1] 1.956006e-05\n",
      "\n",
      "$cc.Decision\n",
      "[1] \"Reject H0\"\n",
      "\n",
      "$expected.exceed\n",
      "[1] 10\n",
      "\n",
      "$actual.exceed\n",
      "[1] 24\n",
      "\n",
      "$H1\n",
      "[1] \"Mean of Excess Violations of VaR is greater than zero\"\n",
      "\n",
      "$boot.p.value\n",
      "[1] NA\n",
      "\n",
      "$p.value\n",
      "[1] 0.4547067\n",
      "\n",
      "$Decision\n",
      "[1] \"Fail to Reject H0\"\n"
     ]
    },
    {
     "data": {
      "image/png": "[encoded data removed]",
      "text/plain": "<IPython.core.display.Image object>"
     },
     "metadata": {},
     "output_type": "display_data"
    }
   ],
   "source": [
    "%%R\n",
    "source(r_arch_models_path)\n",
    "\n",
    "result <- forecast_u_GARCH_var(df, c, n, m, 1, 1, r = 10, model = \"gjrGARCH\", dist = \"sstd\")\n",
    "\n",
    "var <- -result$VaR\n",
    "VaRplot(c, returns, var)\n",
    "print(VaRTest(c, returns, var))\n",
    "\n",
    "es <- -result$ES\n",
    "print(ESTest(c, returns, es, var))\n",
    "\n",
    "plot_var_es(dates, returns, var, es)"
   ],
   "metadata": {
    "collapsed": false,
    "ExecuteTime": {
     "end_time": "2024-11-18T18:28:44.877494900Z",
     "start_time": "2024-11-18T18:28:34.562536500Z"
    }
   },
   "id": "4709527191d428",
   "execution_count": 31
  },
  {
   "cell_type": "code",
   "outputs": [
    {
     "name": "stdout",
     "output_type": "stream",
     "text": [
      "$expected.exceed\n",
      "[1] 10\n",
      "\n",
      "$actual.exceed\n",
      "[1] 22\n",
      "\n",
      "$uc.H0\n",
      "[1] \"Correct Exceedances\"\n",
      "\n",
      "$uc.LRstat\n",
      "[1] 11.4665\n",
      "\n",
      "$uc.critical\n",
      "[1] 3.841459\n",
      "\n",
      "$uc.LRp\n",
      "[1] 0.0007086209\n",
      "\n",
      "$uc.Decision\n",
      "[1] \"Reject H0\"\n",
      "\n",
      "$cc.H0\n",
      "[1] \"Correct Exceedances & Independent\"\n",
      "\n",
      "$cc.LRstat\n",
      "[1] 16.94959\n",
      "$cc.critical\n",
      "[1] 5.991465\n",
      "\n",
      "$cc.LRp\n",
      "[1] 0.0002086616\n",
      "\n",
      "$cc.Decision\n",
      "[1] \"Reject H0\"\n",
      "\n",
      "$expected.exceed\n",
      "[1] 10\n",
      "\n",
      "$actual.exceed\n",
      "[1] 22\n",
      "\n",
      "$H1\n",
      "[1] \"Mean of Excess Violations of VaR is greater than zero\"\n",
      "\n",
      "$boot.p.value\n",
      "[1] NA\n",
      "\n",
      "$p.value\n",
      "[1] 0.9339958\n",
      "\n",
      "$Decision\n",
      "[1] \"Fail to Reject H0\"\n"
     ]
    },
    {
     "data": {
      "text/plain": "\nAttaching package: 'GAS'\n\nThe following objects are masked from 'package:rugarch':\n\n    convergence, pit, residuals\n\nThe following object is masked from 'package:stats':\n\n    residuals\n\nIn addition: Warning message:\npackage 'GAS' was built under R version 4.4.2 \n"
     },
     "metadata": {},
     "output_type": "display_data"
    },
    {
     "data": {
      "image/png": "[encoded data removed]",
      "text/plain": "<IPython.core.display.Image object>"
     },
     "metadata": {},
     "output_type": "display_data"
    }
   ],
   "source": [
    "%%R\n",
    "source(r_gas_models_path)\n",
    "\n",
    "result <- forecast_u_GAS_var(df, c, n, m, r = 20, dist = \"sstd\")\n",
    "\n",
    "var <- -result$VaR\n",
    "VaRplot(c, returns, var)\n",
    "print(VaRTest(c, returns, var))\n",
    "\n",
    "es <- -result$ES\n",
    "print(ESTest(c, returns, es, var))\n",
    "\n",
    "plot_var_es(dates, returns, var, es)"
   ],
   "metadata": {
    "collapsed": false,
    "ExecuteTime": {
     "end_time": "2024-11-18T18:34:52.870489800Z",
     "start_time": "2024-11-18T18:34:34.619778400Z"
    }
   },
   "id": "538977d433263672",
   "execution_count": 32
  },
  {
   "cell_type": "code",
   "outputs": [
    {
     "name": "stdout",
     "output_type": "stream",
     "text": [
      "$expected.exceed\n",
      "[1] 10\n",
      "\n",
      "$actual.exceed\n",
      "[1] 14\n",
      "\n",
      "$uc.H0\n",
      "[1] \"Correct Exceedances\"\n",
      "\n",
      "$uc.LRstat\n",
      "[1] 1.50603\n",
      "\n",
      "$uc.critical\n",
      "[1] 3.841459\n",
      "\n",
      "$uc.LRp\n",
      "[1] 0.2197458\n",
      "\n",
      "$uc.Decision\n",
      "[1] \"Fail to Reject H0\"\n",
      "\n",
      "$cc.H0\n",
      "[1] \"Correct Exceedances & Independent\"\n",
      "\n",
      "$cc.LRstat\n",
      "[1] 3.626976\n",
      "\n",
      "$cc.critical\n",
      "[1] 5.991465\n",
      "\n",
      "$cc.LRp\n",
      "[1] 0.1630843\n",
      "\n",
      "$cc.Decision\n",
      "[1] \"Fail to Reject H0\"\n",
      "\n",
      "$expected.exceed\n",
      "[1] 10\n",
      "\n",
      "$actual.exceed\n",
      "[1] 14\n",
      "\n",
      "$H1\n",
      "[1] \"Mean of Excess Violations of VaR is greater than zero\"\n",
      "\n",
      "$boot.p.value\n",
      "[1] NA\n",
      "\n",
      "$p.value\n",
      "[1] 0.6929909\n",
      "\n",
      "$Decision\n",
      "[1] \"Fail to Reject H0\"\n"
     ]
    },
    {
     "data": {
      "text/plain": "\nAttaching package: 'evir'\n\nThe following object is masked from 'package:ggplot2':\n\n    qplot\n\nIn addition: There were 50 or more warnings (use warnings() to see the first 50)\n"
     },
     "metadata": {},
     "output_type": "display_data"
    },
    {
     "data": {
      "image/png": "[encoded data removed]",
      "text/plain": "<IPython.core.display.Image object>"
     },
     "metadata": {},
     "output_type": "display_data"
    }
   ],
   "source": [
    "%%R\n",
    "source(r_hybrid_evt_models_path)\n",
    "\n",
    "result <- forecast_u_EVT_GARCH_var(df, c, n, m, t = 0.95)\n",
    "\n",
    "var <- -result$VaR\n",
    "VaRplot(c, returns, var)\n",
    "print(VaRTest(c, returns, var))\n",
    "\n",
    "es <- -result$ES\n",
    "print(ESTest(c, returns, es, var))\n",
    "\n",
    "plot_var_es(dates, returns, var, es)"
   ],
   "metadata": {
    "collapsed": false,
    "ExecuteTime": {
     "end_time": "2024-11-18T18:35:27.296154700Z",
     "start_time": "2024-11-18T18:35:13.198095700Z"
    }
   },
   "id": "55bfd06cdf96c5bf",
   "execution_count": 33
  },
  {
   "cell_type": "code",
   "outputs": [
    {
     "name": "stdout",
     "output_type": "stream",
     "text": [
      "$expected.exceed\n",
      "[1] 10\n",
      "\n",
      "$actual.exceed\n",
      "[1] 2\n",
      "\n",
      "$uc.H0\n",
      "[1] \"Correct Exceedances\"\n",
      "\n",
      "$uc.LRstat\n",
      "[1] 9.89446\n",
      "\n",
      "$uc.critical\n",
      "[1] 3.841459\n",
      "\n",
      "$uc.LRp\n",
      "[1] 0.001657771\n",
      "\n",
      "$uc.Decision\n",
      "[1] \"Reject H0\"\n",
      "\n",
      "$cc.H0\n",
      "[1] \"Correct Exceedances & Independent\"\n",
      "\n",
      "$cc.LRstat\n",
      "[1] 9.93507\n",
      "$cc.critical\n",
      "[1] 5.991465\n",
      "\n",
      "$cc.LRp\n",
      "[1] 0.006960285\n",
      "\n",
      "$cc.Decision\n",
      "[1] \"Reject H0\"\n",
      "\n",
      "$expected.exceed\n",
      "[1] 10\n",
      "\n",
      "$actual.exceed\n",
      "[1] 2\n",
      "\n",
      "$H1\n",
      "[1] \"Mean of Excess Violations of VaR is greater than zero\"\n",
      "\n",
      "$boot.p.value\n",
      "[1] NA\n",
      "\n",
      "$p.value\n",
      "[1] 0.06989844\n",
      "\n",
      "$Decision\n",
      "[1] \"Fail to Reject H0\"\n"
     ]
    },
    {
     "data": {
      "text/plain": "In addition: There were 50 or more warnings (use warnings() to see the first 50)\n"
     },
     "metadata": {},
     "output_type": "display_data"
    },
    {
     "data": {
      "image/png": "[encoded data removed]",
      "text/plain": "<IPython.core.display.Image object>"
     },
     "metadata": {},
     "output_type": "display_data"
    }
   ],
   "source": [
    "%%R\n",
    "source(r_caviar_models_path)\n",
    "\n",
    "result <- forecast_u_CAViaR_var(df, c, n, m, r = 10, var_model = \"adaptive\", itermax = 100, verbose = FALSE, es_model=\"ar\", lb = -10, ub = 10)\n",
    "\n",
    "var <- -result$VaR\n",
    "VaRplot(c, returns, var)\n",
    "print(VaRTest(c, returns, var))\n",
    "\n",
    "es <- -result$ES\n",
    "print(ESTest(c, returns, es, var))\n",
    "\n",
    "plot_var_es(dates, returns, var, es)"
   ],
   "metadata": {
    "collapsed": false,
    "ExecuteTime": {
     "end_time": "2024-11-18T18:39:33.324198800Z",
     "start_time": "2024-11-18T18:37:45.992491400Z"
    }
   },
   "id": "8f47825048bbb5ee",
   "execution_count": 36
  },
  {
   "cell_type": "code",
   "outputs": [
    {
     "name": "stdout",
     "output_type": "stream",
     "text": [
      "Loading required package: SparseM\n",
      "Error in model.frame.default(formula = df_all$Return ~ 1, drop.unused.levels = TRUE) : \n",
      "  invalid type (NULL) for variable 'df_all$Return'\n"
     ]
    },
    {
     "ename": "RInterpreterError",
     "evalue": "Failed to parse and evaluate line 'library(quantreg)\\n\\nqreg_model <- rq(df_all$Return ~ 1, tau = c)\\nprint(summary(qreg_model))\\n'.\nR error message: \"Error in model.frame.default(formula = df_all$Return ~ 1, drop.unused.levels = TRUE) : \\n  invalid type (NULL) for variable 'df_all$Return'\"\nR stdout:\nLoading required package: SparseM\nError in model.frame.default(formula = df_all$Return ~ 1, drop.unused.levels = TRUE) : \n  invalid type (NULL) for variable 'df_all$Return'",
     "output_type": "error",
     "traceback": [
      "\u001B[1;31m---------------------------------------------------------------------------\u001B[0m",
      "\u001B[1;31mRRuntimeError\u001B[0m                             Traceback (most recent call last)",
      "File \u001B[1;32m~\\Anaconda\\envs\\var-es-010\\Lib\\site-packages\\rpy2\\ipython\\rmagic.py:407\u001B[0m, in \u001B[0;36mRMagics.eval\u001B[1;34m(self, code)\u001B[0m\n\u001B[0;32m    406\u001B[0m     r_expr \u001B[38;5;241m=\u001B[39m ri\u001B[38;5;241m.\u001B[39mparse(code)\n\u001B[1;32m--> 407\u001B[0m     value, visible \u001B[38;5;241m=\u001B[39m \u001B[43mri\u001B[49m\u001B[38;5;241;43m.\u001B[39;49m\u001B[43mevalr_expr_with_visible\u001B[49m\u001B[43m(\u001B[49m\n\u001B[0;32m    408\u001B[0m \u001B[43m        \u001B[49m\u001B[43mr_expr\u001B[49m\n\u001B[0;32m    409\u001B[0m \u001B[43m    \u001B[49m\u001B[43m)\u001B[49m\n\u001B[0;32m    410\u001B[0m \u001B[38;5;28;01mexcept\u001B[39;00m (ri\u001B[38;5;241m.\u001B[39membedded\u001B[38;5;241m.\u001B[39mRRuntimeError, \u001B[38;5;167;01mValueError\u001B[39;00m) \u001B[38;5;28;01mas\u001B[39;00m exception:\n\u001B[0;32m    411\u001B[0m     \u001B[38;5;66;03m# Otherwise next return seems to have copy of error.\u001B[39;00m\n",
      "File \u001B[1;32m~\\Anaconda\\envs\\var-es-010\\Lib\\site-packages\\rpy2\\rinterface.py:192\u001B[0m, in \u001B[0;36mevalr_expr_with_visible\u001B[1;34m(expr, envir)\u001B[0m\n\u001B[0;32m    191\u001B[0m \u001B[38;5;28;01mif\u001B[39;00m error_occured[\u001B[38;5;241m0\u001B[39m]:\n\u001B[1;32m--> 192\u001B[0m     \u001B[38;5;28;01mraise\u001B[39;00m embedded\u001B[38;5;241m.\u001B[39mRRuntimeError(_rinterface\u001B[38;5;241m.\u001B[39m_geterrmessage())\n\u001B[0;32m    193\u001B[0m res \u001B[38;5;241m=\u001B[39m conversion\u001B[38;5;241m.\u001B[39m_cdata_to_rinterface(r_res)\n",
      "\u001B[1;31mRRuntimeError\u001B[0m: Error in model.frame.default(formula = df_all$Return ~ 1, drop.unused.levels = TRUE) : \n  invalid type (NULL) for variable 'df_all$Return'\n",
      "\nDuring handling of the above exception, another exception occurred:\n",
      "\u001B[1;31mRInterpreterError\u001B[0m                         Traceback (most recent call last)",
      "Cell \u001B[1;32mIn[35], line 1\u001B[0m\n\u001B[1;32m----> 1\u001B[0m \u001B[43mget_ipython\u001B[49m\u001B[43m(\u001B[49m\u001B[43m)\u001B[49m\u001B[38;5;241;43m.\u001B[39;49m\u001B[43mrun_cell_magic\u001B[49m\u001B[43m(\u001B[49m\u001B[38;5;124;43m'\u001B[39;49m\u001B[38;5;124;43mR\u001B[39;49m\u001B[38;5;124;43m'\u001B[39;49m\u001B[43m,\u001B[49m\u001B[43m \u001B[49m\u001B[38;5;124;43m'\u001B[39;49m\u001B[38;5;124;43m'\u001B[39;49m\u001B[43m,\u001B[49m\u001B[43m \u001B[49m\u001B[38;5;124;43m'\u001B[39;49m\u001B[38;5;124;43mlibrary(quantreg)\u001B[39;49m\u001B[38;5;130;43;01m\\n\u001B[39;49;00m\u001B[38;5;130;43;01m\\n\u001B[39;49;00m\u001B[38;5;124;43mqreg_model <- rq(df_all$Return ~ 1, tau = c)\u001B[39;49m\u001B[38;5;130;43;01m\\n\u001B[39;49;00m\u001B[38;5;124;43mprint(summary(qreg_model))\u001B[39;49m\u001B[38;5;130;43;01m\\n\u001B[39;49;00m\u001B[38;5;124;43m'\u001B[39;49m\u001B[43m)\u001B[49m\n",
      "File \u001B[1;32m~\\Anaconda\\envs\\var-es-010\\Lib\\site-packages\\IPython\\core\\interactiveshell.py:2541\u001B[0m, in \u001B[0;36mInteractiveShell.run_cell_magic\u001B[1;34m(self, magic_name, line, cell)\u001B[0m\n\u001B[0;32m   2539\u001B[0m \u001B[38;5;28;01mwith\u001B[39;00m \u001B[38;5;28mself\u001B[39m\u001B[38;5;241m.\u001B[39mbuiltin_trap:\n\u001B[0;32m   2540\u001B[0m     args \u001B[38;5;241m=\u001B[39m (magic_arg_s, cell)\n\u001B[1;32m-> 2541\u001B[0m     result \u001B[38;5;241m=\u001B[39m \u001B[43mfn\u001B[49m\u001B[43m(\u001B[49m\u001B[38;5;241;43m*\u001B[39;49m\u001B[43margs\u001B[49m\u001B[43m,\u001B[49m\u001B[43m \u001B[49m\u001B[38;5;241;43m*\u001B[39;49m\u001B[38;5;241;43m*\u001B[39;49m\u001B[43mkwargs\u001B[49m\u001B[43m)\u001B[49m\n\u001B[0;32m   2543\u001B[0m \u001B[38;5;66;03m# The code below prevents the output from being displayed\u001B[39;00m\n\u001B[0;32m   2544\u001B[0m \u001B[38;5;66;03m# when using magics with decorator @output_can_be_silenced\u001B[39;00m\n\u001B[0;32m   2545\u001B[0m \u001B[38;5;66;03m# when the last Python token in the expression is a ';'.\u001B[39;00m\n\u001B[0;32m   2546\u001B[0m \u001B[38;5;28;01mif\u001B[39;00m \u001B[38;5;28mgetattr\u001B[39m(fn, magic\u001B[38;5;241m.\u001B[39mMAGIC_OUTPUT_CAN_BE_SILENCED, \u001B[38;5;28;01mFalse\u001B[39;00m):\n",
      "File \u001B[1;32m~\\Anaconda\\envs\\var-es-010\\Lib\\site-packages\\rpy2\\ipython\\rmagic.py:984\u001B[0m, in \u001B[0;36mRMagics.R\u001B[1;34m(self, line, cell, local_ns)\u001B[0m\n\u001B[0;32m    982\u001B[0m     \u001B[38;5;28;01mif\u001B[39;00m \u001B[38;5;129;01mnot\u001B[39;00m e\u001B[38;5;241m.\u001B[39mstdout\u001B[38;5;241m.\u001B[39mendswith(e\u001B[38;5;241m.\u001B[39merr):\n\u001B[0;32m    983\u001B[0m         \u001B[38;5;28mprint\u001B[39m(e\u001B[38;5;241m.\u001B[39merr)\n\u001B[1;32m--> 984\u001B[0m     \u001B[38;5;28;01mraise\u001B[39;00m e\n\u001B[0;32m    985\u001B[0m \u001B[38;5;28;01mfinally\u001B[39;00m:\n\u001B[0;32m    986\u001B[0m     \u001B[38;5;28;01mif\u001B[39;00m \u001B[38;5;28mself\u001B[39m\u001B[38;5;241m.\u001B[39mdevice \u001B[38;5;129;01min\u001B[39;00m DEVICES_STATIC:\n",
      "File \u001B[1;32m~\\Anaconda\\envs\\var-es-010\\Lib\\site-packages\\rpy2\\ipython\\rmagic.py:949\u001B[0m, in \u001B[0;36mRMagics.R\u001B[1;34m(self, line, cell, local_ns)\u001B[0m\n\u001B[0;32m    947\u001B[0m         return_output \u001B[38;5;241m=\u001B[39m \u001B[38;5;28;01mFalse\u001B[39;00m\n\u001B[0;32m    948\u001B[0m \u001B[38;5;28;01melse\u001B[39;00m:\n\u001B[1;32m--> 949\u001B[0m     text_result, result, visible \u001B[38;5;241m=\u001B[39m \u001B[38;5;28;43mself\u001B[39;49m\u001B[38;5;241;43m.\u001B[39;49m\u001B[43meval\u001B[49m\u001B[43m(\u001B[49m\u001B[43mcode\u001B[49m\u001B[43m)\u001B[49m\n\u001B[0;32m    950\u001B[0m     text_output \u001B[38;5;241m+\u001B[39m\u001B[38;5;241m=\u001B[39m text_result\n\u001B[0;32m    951\u001B[0m     \u001B[38;5;28;01mif\u001B[39;00m visible:\n",
      "File \u001B[1;32m~\\Anaconda\\envs\\var-es-010\\Lib\\site-packages\\rpy2\\ipython\\rmagic.py:413\u001B[0m, in \u001B[0;36mRMagics.eval\u001B[1;34m(self, code)\u001B[0m\n\u001B[0;32m    410\u001B[0m \u001B[38;5;28;01mexcept\u001B[39;00m (ri\u001B[38;5;241m.\u001B[39membedded\u001B[38;5;241m.\u001B[39mRRuntimeError, \u001B[38;5;167;01mValueError\u001B[39;00m) \u001B[38;5;28;01mas\u001B[39;00m exception:\n\u001B[0;32m    411\u001B[0m     \u001B[38;5;66;03m# Otherwise next return seems to have copy of error.\u001B[39;00m\n\u001B[0;32m    412\u001B[0m     warning_or_other_msg \u001B[38;5;241m=\u001B[39m \u001B[38;5;28mself\u001B[39m\u001B[38;5;241m.\u001B[39mflush()\n\u001B[1;32m--> 413\u001B[0m     \u001B[38;5;28;01mraise\u001B[39;00m RInterpreterError(code, \u001B[38;5;28mstr\u001B[39m(exception),\n\u001B[0;32m    414\u001B[0m                             warning_or_other_msg)\n\u001B[0;32m    415\u001B[0m \u001B[38;5;28;01mfinally\u001B[39;00m:\n\u001B[0;32m    416\u001B[0m     ro\u001B[38;5;241m.\u001B[39m_print_deferred_warnings()\n",
      "\u001B[1;31mRInterpreterError\u001B[0m: Failed to parse and evaluate line 'library(quantreg)\\n\\nqreg_model <- rq(df_all$Return ~ 1, tau = c)\\nprint(summary(qreg_model))\\n'.\nR error message: \"Error in model.frame.default(formula = df_all$Return ~ 1, drop.unused.levels = TRUE) : \\n  invalid type (NULL) for variable 'df_all$Return'\"\nR stdout:\nLoading required package: SparseM\nError in model.frame.default(formula = df_all$Return ~ 1, drop.unused.levels = TRUE) : \n  invalid type (NULL) for variable 'df_all$Return'"
     ]
    }
   ],
   "source": [
    "%%R\n",
    "library(quantreg)\n",
    "\n",
    "qreg_model <- rq(df_all$Return ~ 1, tau = c)\n",
    "print(summary(qreg_model))"
   ],
   "metadata": {
    "collapsed": false,
    "ExecuteTime": {
     "end_time": "2024-11-18T14:13:08.367287600Z",
     "start_time": "2024-11-18T14:13:07.408951Z"
    }
   },
   "id": "ae0e3ef63ee4b028",
   "execution_count": 35
  },
  {
   "cell_type": "code",
   "outputs": [],
   "source": [
    "%%R\n",
    "library(rugarch)\n",
    "\n",
    "print(VaRTest(c, returns, var))"
   ],
   "metadata": {
    "collapsed": false
   },
   "id": "70b2c064b707fe24",
   "execution_count": null
  },
  {
   "cell_type": "code",
   "outputs": [],
   "source": [
    "%%R\n",
    "library(\"ggplot2\")             \n",
    "\n",
    "ggplot(df, aes(x=`Date`, y=`NPE EDEFB D1 - return`)) +\n",
    "    geom_line(color=\"blue\") +\n",
    "    ggtitle(\"NPE EDEFB D1 Returns\") +\n",
    "    xlab(\"Date\") +\n",
    "    ylab(\"Return (%)\")"
   ],
   "metadata": {
    "collapsed": false
   },
   "id": "b7ed3a448dc41823",
   "execution_count": null
  },
  {
   "cell_type": "code",
   "outputs": [],
   "source": [
    "models_dir = project_dir / \"src\" / \"var_es_toolbox\" / \"backtesting\"\n",
    "r_backtesting_path = models_dir / \"r_backtesting.R\"\n",
    "r.source(str(r_backtesting_path))\n",
    "\n",
    "backtest_er = r[\"backtest_er\"]\n",
    "backtest_er_result = backtest_er([0.1], [5], [4.5], [30], 1000)\n",
    "\n",
    "globalenv['r_backtesting_path'] = str(r_backtesting_path)"
   ],
   "metadata": {
    "collapsed": false
   },
   "id": "9d23977734b8041e",
   "execution_count": null
  },
  {
   "cell_type": "code",
   "outputs": [],
   "source": [
    "%%R\n",
    "\n",
    "source(r_backtesting_path)\n",
    "result <- backtest_er(df, p, q, n)\n",
    "print(result)"
   ],
   "metadata": {
    "collapsed": false
   },
   "id": "159467322095e867",
   "execution_count": null
  },
  {
   "cell_type": "code",
   "outputs": [],
   "source": [
    "p = 1\n",
    "q = 1\n",
    "n = 5\n",
    "mean = \"constant\"\n",
    "vol = \"garch\"\n",
    "dist = \"normal\"\n",
    "\n",
    "basic_gm = arch_model(futures_returns, p=p, q=q, mean=mean, vol=vol, dist=dist)\n",
    "\n",
    "gm_result = basic_gm.fit()\n",
    "print(gm_result.summary())\n",
    "gm_result.plot()\n",
    "\n",
    "# Make 5-period ahead forecast\n",
    "gm_forecast = gm_result.forecast(horizon=n)\n",
    "\n",
    "# Print the forecast variance\n",
    "print(gm_forecast.variance[-1:])\n",
    "\n",
    "# Calculate standardized residual\n",
    "gm_std_resid = gm_result.resid / gm_result.conditional_volatility\n",
    "\n",
    "# Plot\n",
    "fig, ax = plt.subplots(figsize=(8, 5))\n",
    "ax.hist(gm_std_resid, color='salmon', bins=40)\n",
    "ax.set(title='Distribution of Standardized Residuals')\n",
    "\n",
    "forecast_garch_result = forecast_ugarch(futures_returns, p=p, q=q, n=n, verbose=0, mean=mean, dist=dist)\n",
    "print(forecast_garch_result.variance)"
   ],
   "metadata": {
    "collapsed": false
   },
   "id": "2ba7af04e6cb69f9"
  }
 ],
 "metadata": {
  "kernelspec": {
   "name": "python3",
   "language": "python",
   "display_name": "Python 3 (ipykernel)"
  },
  "language_info": {
   "codemirror_mode": {
    "name": "ipython",
    "version": 2
   },
   "file_extension": ".py",
   "mimetype": "text/x-python",
   "name": "python",
   "nbconvert_exporter": "python",
   "pygments_lexer": "ipython2",
   "version": "2.7.6"
  }
 },
 "nbformat": 4,
 "nbformat_minor": 5
}
