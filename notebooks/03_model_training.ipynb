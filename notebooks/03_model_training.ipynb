{
 "cells": [
  {
   "cell_type": "markdown",
   "source": [
    "# Models"
   ],
   "metadata": {
    "collapsed": false
   },
   "id": "d2285ed73df71746"
  },
  {
   "cell_type": "markdown",
   "source": [
    "## Setup"
   ],
   "metadata": {
    "collapsed": false
   },
   "id": "a75d08e3c8d35749"
  },
  {
   "cell_type": "code",
   "execution_count": null,
   "id": "initial_id",
   "metadata": {
    "collapsed": true
   },
   "outputs": [],
   "source": [
    "import os\n",
    "from pathlib import Path\n",
    "\n",
    "from scripts.renv_utils import activate_renv\n",
    "from var_es_toolbox.data import load_data\n",
    "\n",
    "activate_renv()\n",
    "from rpy2.robjects import pandas2ri, globalenv, r\n",
    "%load_ext rpy2.ipython"
   ]
  },
  {
   "cell_type": "code",
   "outputs": [],
   "source": [
    "project_dir = Path(os.getcwd()).resolve().parent\n",
    "# Asset\n",
    "asset = \"DBc1\"\n",
    "globalenv[\"asset\"] = str(asset)\n",
    "\n",
    "# Retrieve data\n",
    "data_dir = project_dir / \"data\"\n",
    "data_cleaned_name = \"refinitiv_data_merged.csv\"\n",
    "date_format = \"ISO8601\"\n",
    "data_cleaned = load_data(data_dir / data_cleaned_name, date_format=date_format).dropna()\n",
    "data_cleaned = data_cleaned.dropna()\n",
    "\n",
    "# Split data into multiple dataframes\n",
    "columns = data_cleaned.columns\n",
    "price_columns = [col for col in columns if not col.endswith(\"_return\") and \"supply\" not in col.lower() and \"demand\" not in col.lower()]\n",
    "return_columns = [col for col in columns if col.endswith(\"_return\")]\n",
    "supply_demand_columns = [col for col in columns if \"supply\" in col.lower() or \"demand\" in col.lower()]\n",
    "\n",
    "price_df = data_cleaned[price_columns]\n",
    "return_df = data_cleaned[return_columns]\n",
    "return_df.columns = return_df.columns.str.replace(\"_return\", \"\", regex=False)\n",
    "fund_df = data_cleaned[supply_demand_columns]\n",
    "\n",
    "futures_returns = data_cleaned[asset].dropna()\n",
    "\n",
    "# Retrieve r model\n",
    "models_dir = project_dir / \"src\" / \"var_es_toolbox\" / \"models\"\n",
    "backtest_dir = project_dir / \"src\" / \"var_es_toolbox\" / \"backtesting\"\n",
    "hs_path = models_dir / \"hs.R\"\n",
    "garch_path = models_dir / \"garch.R\"\n",
    "gas_path = models_dir / \"gas.R\"\n",
    "hybrid_evt_path = models_dir / \"hybrid_evt.R\"\n",
    "caviar_path = models_dir / \"caviar\" / \"caviar.R\"\n",
    "backtest_path = backtest_dir / \"backtesting.R\"\n",
    "\n",
    "globalenv['hs_path'] = str(hs_path)\n",
    "globalenv['garch_path'] = str(garch_path)\n",
    "globalenv['gas_path'] = str(gas_path)\n",
    "globalenv['hybrid_evt_path'] = str(hybrid_evt_path)\n",
    "globalenv['caviar_path'] = str(caviar_path)\n",
    "globalenv['backtest_path'] = str(backtest_path)\n",
    "\n",
    "c = 0.05\n",
    "t = 0.95\n",
    "p = 1\n",
    "q = 1\n",
    "m = 250\n",
    "n = 250\n",
    "refit = 50\n",
    "\n",
    "asset_df = return_df[[asset]]\n",
    "asset_df.columns = [\"Return\"]\n",
    "\n",
    "globalenv['asset_df'] = pandas2ri.py2rpy(asset_df.reset_index())\n",
    "globalenv['price_df'] = pandas2ri.py2rpy(price_df.reset_index())\n",
    "globalenv['return_df'] = pandas2ri.py2rpy(return_df.reset_index())\n",
    "globalenv['c'] = c\n",
    "globalenv['p'] = p\n",
    "globalenv['q'] = q\n",
    "globalenv['m'] = m\n",
    "globalenv['n'] = n\n",
    "globalenv['refit'] = refit"
   ],
   "metadata": {
    "collapsed": false
   },
   "id": "4f37f691f0baa3c2",
   "execution_count": null
  },
  {
   "cell_type": "code",
   "outputs": [],
   "source": [
    "%%R\n",
    "library(xts)\n",
    "library(rugarch)\n",
    "library(psych)\n",
    "library(ggplot2)   \n",
    "library(gridExtra)          \n",
    "library(tseries)          \n",
    "\n",
    "dates <- tail(asset_df$Date, n)\n",
    "returns <- xts(tail(asset_df$Return, n), order.by = dates)\n",
    "\n",
    "# Function to plot all returns\n",
    "plot_all_returns <- function(data) {\n",
    "  # Assume the relevant columns are identified (excluding \"Date\")\n",
    "  return_cols <- setdiff(names(data), \"Date\")\n",
    "  \n",
    "  # Calculate global y-axis limits\n",
    "  y_limits <- range(data[return_cols], na.rm = TRUE)\n",
    "  \n",
    "  # Create a list to store individual plots\n",
    "  plot_list <- lapply(return_cols, function(col) {\n",
    "    ggplot(data, aes_string(x = \"Date\", y = col)) +\n",
    "      geom_line(color = \"black\") +\n",
    "      labs(title = col, x = \"\", y = \"\") +\n",
    "      theme_minimal() +\n",
    "      scale_y_continuous(limits = y_limits) # Apply consistent y-axis limits\n",
    "  })\n",
    "  \n",
    "  # Combine all plots into a grid\n",
    "  do.call(grid.arrange, c(plot_list, ncol = 2)) # Adjust ncol to control layout\n",
    "}\n",
    "\n",
    "# Function to create QQ plots for all columns in a dataframe\n",
    "plot_all_qq <- function(data) {\n",
    "  # Exclude 'Date' column\n",
    "  data_cols <- setdiff(names(data), \"Date\")\n",
    "  \n",
    "  # Calculate global y-axis limits for QQ plots\n",
    "  qq_limits <- quantile(unlist(data[data_cols]), probs = c(0.01, 0.99), na.rm = TRUE)\n",
    "  \n",
    "  # Create a list to store individual QQ plots\n",
    "  plot_list <- lapply(data_cols, function(col) {\n",
    "    ggplot(data, aes_string(sample = col)) +\n",
    "      stat_qq() +\n",
    "      stat_qq_line() +\n",
    "      labs(title = col, x = \"\", y = \"\") +\n",
    "      theme_minimal() +\n",
    "      scale_y_continuous(limits = qq_limits) # Apply consistent y-axis limits\n",
    "  })\n",
    "  \n",
    "  # Combine all QQ plots into a grid\n",
    "  do.call(grid.arrange, c(plot_list, ncol = 2)) # Adjust ncol to control layout\n",
    "}\n",
    "\n",
    "# Function to plot all prices\n",
    "plot_all_timeseries <- function(data) {\n",
    "  timeseries_cols <- setdiff(names(data), \"Date\")\n",
    "  \n",
    "  # Define a custom matte color palette\n",
    "  custom_colors <- c(\"#597BAF\", \"#E6A157\", \"#7F9C66\", \"#C7615D\", \n",
    "                     \"#B39EB5\", \"#A07C72\", \"#D69AB3\", \"#A6A6A6\")\n",
    "  \n",
    "  # Map colors to column names\n",
    "  color_mapping <- custom_colors[seq_along(timeseries_cols)]\n",
    "  names(color_mapping) <- timeseries_cols\n",
    "  \n",
    "  # Create the base plot\n",
    "  p <- ggplot(data, aes(x = Date)) +\n",
    "    labs(x = \"Date\", y = \"Value\") +\n",
    "    theme_minimal()\n",
    "  \n",
    "  # Add each time series as a separate line\n",
    "  for (col in timeseries_cols) {\n",
    "    p <- p + geom_line(aes_string(y = col, color = shQuote(col)))\n",
    "  }\n",
    "  \n",
    "  # Finalize the plot with consistent y-axis limits\n",
    "  p + scale_color_manual(values = color_mapping, name = \"Series\")\n",
    "}\n",
    "\n",
    "plot_all_timeseries <- function(data) {\n",
    "  timeseries_cols <- setdiff(names(data), \"Date\")\n",
    "  \n",
    "  # Define a custom matte color palette\n",
    "  custom_colors <- c(\"#597BAF\", \"#E6A157\", \"#7F9C66\", \"#C7615D\", \n",
    "                     \"#B39EB5\", \"#A07C72\", \"#D69AB3\", \"#A6A6A6\")\n",
    "  \n",
    "  # Map colors to column names\n",
    "  color_mapping <- custom_colors[seq_along(timeseries_cols)]\n",
    "  names(color_mapping) <- timeseries_cols\n",
    "  \n",
    "  # Create the base plot\n",
    "  p <- ggplot(data, aes(x = Date)) +\n",
    "    labs(x = \"Date\", y = \"Value\") +\n",
    "    theme_minimal() +\n",
    "    theme(legend.position = \"none\")  # Remove default legend\n",
    "  \n",
    "  # Add each time series as a separate line\n",
    "  for (col in timeseries_cols) {\n",
    "    p <- p + geom_line(aes_string(y = col, color = shQuote(col)))\n",
    "  }\n",
    "  \n",
    "  # Prepare legend positions and labels\n",
    "  legend_df <- data.frame(\n",
    "    x = rep(max(data$Date) - (max(data$Date) - min(data$Date)) * 0.1, length(timeseries_cols)),\n",
    "    y = seq(\n",
    "      from = max(unlist(data[timeseries_cols], use.names = FALSE)) * 0.9,\n",
    "      to = max(unlist(data[timeseries_cols], use.names = FALSE)) * 0.7,\n",
    "      length.out = length(timeseries_cols)\n",
    "    ),\n",
    "    label = names(color_mapping),\n",
    "    color = color_mapping\n",
    "  )\n",
    "  \n",
    "  # Add custom legend inside the plot\n",
    "  p <- p +\n",
    "    geom_text(data = legend_df, aes(x = x, y = y, label = label, color = label), hjust = 0, size = 3) +\n",
    "    geom_point(data = legend_df, aes(x = x - (max(data$Date) - min(data$Date)) * 0.01, y = y, color = label), size = 3)\n",
    "  \n",
    "  # Finalize the plot with custom colors\n",
    "  p + scale_color_manual(values = color_mapping, name = \"Series\")\n",
    "}\n",
    "\n",
    "# Function to plot base vs. peak prices in subplots\n",
    "plot_base_vs_peak <- function(data, base_cols, peak_cols) {\n",
    "  if (length(base_cols) != length(peak_cols)) {\n",
    "    stop(\"Base and peak column lists must have the same length.\")\n",
    "  }\n",
    "  \n",
    "  # Calculate global y-axis limits\n",
    "  all_cols <- c(base_cols, peak_cols)\n",
    "  y_limits <- range(data[all_cols], na.rm = TRUE)\n",
    "  \n",
    "  # Create a list to store individual plots\n",
    "  plot_list <- lapply(seq_along(base_cols), function(i) {\n",
    "    base_col <- base_cols[i]\n",
    "    peak_col <- peak_cols[i]\n",
    "    \n",
    "    ggplot(data, aes(x = Date)) +\n",
    "      geom_line(aes_string(y = base_col), color = \"#597BAF\", linetype = \"solid\") +\n",
    "      geom_line(aes_string(y = peak_col), color = \"#E6A157\", linetype = \"dashed\") +\n",
    "      labs(title = paste(base_col, \"vs\", peak_col),\n",
    "           x = \"\",\n",
    "           y = \"\") +\n",
    "      theme_minimal() +\n",
    "      scale_y_continuous(limits = y_limits) # Apply consistent y-axis limits\n",
    "  })\n",
    "  \n",
    "  # Combine all plots into a grid\n",
    "  do.call(grid.arrange, c(plot_list, ncol = 2)) # Adjust ncol to control layout\n",
    "}\n",
    "\n",
    "# Define the function for plotting returns, VaR, and ES\n",
    "plot_var_es <- function(dates, returns, var, es) {\n",
    "  # Create a data frame for plotting\n",
    "  plot_data <- data.frame(\n",
    "    Date = dates,\n",
    "    Return = returns,\n",
    "    VaR = var,\n",
    "    ES = es\n",
    "  )\n",
    "  \n",
    "  # Generate the plot using ggplot2 with labels\n",
    "  ggplot(plot_data, aes(x = Date)) +\n",
    "    geom_line(aes(y = Return, color = \"Return\"), linewidth = 0.7, alpha = 0.8) +    # Actual returns\n",
    "    geom_line(aes(y = VaR, color = \"VaR\"), linetype = \"dashed\", linewidth = 0.7) + # VaR\n",
    "    geom_line(aes(y = ES, color = \"ES\"), linetype = \"dotted\", linewidth = 0.7) +   # ES\n",
    "    ggtitle(\"Actual Returns vs. VaR and ES\") +\n",
    "    xlab(\"Date\") +\n",
    "    ylab(\"Returns / VaR / ES\") +\n",
    "    theme_minimal() +\n",
    "    theme(\n",
    "      plot.title = element_text(hjust = 0.5),\n",
    "      legend.position = \"top\"\n",
    "    ) +\n",
    "    scale_color_manual(values = c(\"Return\" = \"blue\", \"VaR\" = \"red\", \"ES\" = \"darkorange\")) +\n",
    "    scale_y_continuous(labels = scales::percent) +\n",
    "    labs(color = \"Legend\")\n",
    "}"
   ],
   "metadata": {
    "collapsed": false
   },
   "id": "c177a593e9018364",
   "execution_count": null
  },
  {
   "cell_type": "markdown",
   "source": [
    "## Descriptive Statistics"
   ],
   "metadata": {
    "collapsed": false
   },
   "id": "f79648e980264f95"
  },
  {
   "cell_type": "code",
   "outputs": [],
   "source": [
    "%%R\n",
    "\n",
    "desc_price <- psych::describe(price_df[setdiff(names(price_df), \"Date\")])\n",
    "print(\"Descriptive Statistics for prices\")\n",
    "print(desc_price)\n",
    "\n",
    "desc_return <- psych::describe(return_df[setdiff(names(return_df), \"Date\")])\n",
    "\n",
    "# Compute the JB test for each column in return_df\n",
    "jb_tests <- apply(return_df[setdiff(names(price_df), \"Date\")], 2, function(column) {\n",
    "  test <- jarque.bera.test(na.omit(column)) # Perform JB test\n",
    "  return(test$p.value) # Return the test statistic\n",
    "})\n",
    "\n",
    "# Add JB test statistics as a new column to the descriptive stats\n",
    "desc_return <- cbind(desc_return, JB_Test = jb_tests)\n",
    "\n",
    "print(\"Descriptive Statistics for returns\")\n",
    "print(desc_return)"
   ],
   "metadata": {
    "collapsed": false
   },
   "id": "eb254c1d86dec6ad",
   "execution_count": null
  },
  {
   "cell_type": "code",
   "outputs": [],
   "source": [
    "%%R\n",
    "\n",
    "plot_all_returns(return_df)"
   ],
   "metadata": {
    "collapsed": false
   },
   "id": "46087e1568ea5a52",
   "execution_count": null
  },
  {
   "cell_type": "code",
   "outputs": [],
   "source": [
    "%%R\n",
    "\n",
    "price_P_col <- grep(\"P\", names(price_df), value = TRUE)\n",
    "plot_all_timeseries(price_df[ , c(\"Date\", price_P_col)])"
   ],
   "metadata": {
    "collapsed": false
   },
   "id": "2613b8ce867d76b7",
   "execution_count": null
  },
  {
   "cell_type": "code",
   "outputs": [],
   "source": [
    "%%R\n",
    "\n",
    "\n",
    "price_B_col <- grep(\"B\", names(price_df), value = TRUE)\n",
    "plot_all_timeseries(price_df[ , c(\"Date\", price_B_col)])"
   ],
   "metadata": {
    "collapsed": false
   },
   "id": "ee05ff25a1a1de08",
   "execution_count": null
  },
  {
   "cell_type": "code",
   "outputs": [],
   "source": [
    "%%R\n",
    "\n",
    "plot_base_vs_peak(price_df, price_B_col, price_P_col)"
   ],
   "metadata": {
    "collapsed": false
   },
   "id": "347561a22a85a8db",
   "execution_count": null
  },
  {
   "cell_type": "code",
   "outputs": [],
   "source": [
    "%%R\n",
    "\n",
    "plot_base_vs_peak(return_df, price_B_col, price_P_col)"
   ],
   "metadata": {
    "collapsed": false
   },
   "id": "ddd6ebd2394cbbc0",
   "execution_count": null
  },
  {
   "cell_type": "code",
   "outputs": [],
   "source": [
    "%%R\n",
    "\n",
    "plot_all_qq(return_df)"
   ],
   "metadata": {
    "collapsed": false
   },
   "id": "9cdf5ab653a12fe3",
   "execution_count": null
  },
  {
   "cell_type": "markdown",
   "source": [
    "## VaR and ES forecasting"
   ],
   "metadata": {
    "collapsed": false
   },
   "id": "e28e8a3d5268c96b"
  },
  {
   "cell_type": "code",
   "outputs": [],
   "source": [
    "%%R\n",
    "source(backtest_path)\n",
    "source(hs_path)\n",
    "source(garch_path)\n",
    "source(hybrid_evt_path)\n",
    "source(gas_path)\n",
    "library(caviar)\n",
    "\n",
    "df <- asset_df\n",
    "\n",
    "# Define example models\n",
    "models <- list(\n",
    "  \"HS\" = function(df, c, n, m) forecast_u_HS(df, c = c, n = n, m = m),\n",
    "  \"FHS_EWMA\" = function(df, c, n, m) forecast_u_FHS_EWMA(df, c = c, n = n, m = m),\n",
    "  \"FHS_sGARCH_norm\" = function(df, c, n, m) forecast_u_FHS_GARCH(df, c = c, n = n, m = m, model = \"sGARCH\", dist = \"norm\"),\n",
    "  \"FHS_sGARCH_std\" = function(df, c, n, m) forecast_u_FHS_GARCH(df, c = c, n = n, m = m, r = 50, model = \"sGARCH\", dist = \"std\"),\n",
    "  \"FHS_sGARCH_sstd\" = function(df, c, n, m) forecast_u_FHS_GARCH(df, c = c, n = n, m = m, r = 50, model = \"sGARCH\", dist = \"sstd\"),\n",
    "  \"FHS_eGARCH_norm\" = function(df, c, n, m) forecast_u_FHS_GARCH(df, c = c, n = n, m = m, r = 50, model = \"eGARCH\", dist = \"norm\"),\n",
    "  \"FHS_eGARCH_std\" = function(df, c, n, m) forecast_u_FHS_GARCH(df, c = c, n = n, m = m, r = 50, model = \"eGARCH\", dist = \"std\"),\n",
    "  \"FHS_eGARCH_sstd\" = function(df, c, n, m) forecast_u_FHS_GARCH(df, c = c, n = n, m = m, r = 50, model = \"eGARCH\", dist = \"sstd\"),\n",
    "  \"FHS_gjrGARCH_norm\" = function(df, c, n, m) forecast_u_FHS_GARCH(df, c = c, n = n, m = m, r = 50, model = \"gjrGARCH\", dist = \"norm\"),\n",
    "  \"FHS_gjrGARCH_std\" = function(df, c, n, m) forecast_u_FHS_GARCH(df, c = c, n = n, m = m, r = 50, model = \"gjrGARCH\", dist = \"std\"),\n",
    "  \"FHS_gjrGARCH_sstd\" = function(df, c, n, m) forecast_u_FHS_GARCH(df, c = c, n = n, m = m, r = 50, model = \"gjrGARCH\", dist = \"sstd\"),\n",
    "  \"sGARCH_norm\" = function(df, c, n, m) forecast_u_GARCH(df, c = c, n = n, m = m, r = 50, model = \"sGARCH\", dist = \"norm\"),\n",
    "  \"sGARCH_std\" = function(df, c, n, m) forecast_u_GARCH(df, c = c, n = n, m = m, r = 50, model = \"sGARCH\", dist = \"std\"),\n",
    "  \"sGARCH_sstd\" = function(df, c, n, m) forecast_u_GARCH(df, c = c, n = n, m = m, r = 50, model = \"sGARCH\", dist = \"sstd\"),\n",
    "  \"eGARCH_norm\" = function(df, c, n, m) forecast_u_GARCH(df, c = c, n = n, m = m, r = 50, model = \"eGARCH\", dist = \"norm\"),\n",
    "  \"eGARCH_std\" = function(df, c, n, m) forecast_u_GARCH(df, c = c, n = n, m = m, r = 50, model = \"eGARCH\", dist = \"std\"),\n",
    "  \"eGARCH_sstd\" = function(df, c, n, m) forecast_u_GARCH(df, c = c, n = n, m = m, r = 50, model = \"eGARCH\", dist = \"sstd\"),\n",
    "  \"gjrGARCH_norm\" = function(df, c, n, m) forecast_u_GARCH(df, c = c, n = n, m = m, r = 50, model = \"gjrGARCH\", dist = \"norm\"),\n",
    "  \"gjrGARCH_std\" = function(df, c, n, m) forecast_u_GARCH(df, c = c, n = n, m = m, r = 50, model = \"gjrGARCH\", dist = \"std\"),\n",
    "  \"gjrGARCH_sstd\" = function(df, c, n, m) forecast_u_GARCH(df, c = c, n = n, m = m, r = 50, model = \"gjrGARCH\", dist = \"sstd\"),\n",
    "  \"EVT_sGARCH_norm\" = function(df, c, n, m) forecast_u_EVT_GARCH(df, c = c, n = n, m = m, t = 0.95, r = 50, model = \"sGARCH\", dist = \"norm\"),\n",
    "  \"EVT_sGARCH_std\" = function(df, c, n, m) forecast_u_EVT_GARCH(df, c = c, n = n, m = m, t = 0.95, r = 50, model = \"sGARCH\", dist = \"std\"),\n",
    "  \"EVT_sGARCH_sstd\" = function(df, c, n, m) forecast_u_EVT_GARCH(df, c = c, n = n, m = m, t = 0.95, r = 50, model = \"sGARCH\", dist = \"sstd\"),\n",
    "  \"EVT_eGARCH_norm\" = function(df, c, n, m) forecast_u_EVT_GARCH(df, c = c, n = n, m = m, t = 0.95, r = 50, model = \"eGARCH\", dist = \"norm\"),\n",
    "  \"EVT_eGARCH_std\" = function(df, c, n, m) forecast_u_EVT_GARCH(df, c = c, n = n, m = m, t = 0.95, r = 50, model = \"eGARCH\", dist = \"std\"),\n",
    "  \"EVT_eGARCH_sstd\" = function(df, c, n, m) forecast_u_EVT_GARCH(df, c = c, n = n, m = m, t = 0.95, r = 50, model = \"eGARCH\", dist = \"sstd\"),\n",
    "  \"EVT_gjrGARCH_norm\" = function(df, c, n, m) forecast_u_EVT_GARCH(df, c = c, n = n, m = m, t = 0.95, r = 50, model = \"gjrGARCH\", dist = \"norm\"),\n",
    "  \"EVT_gjrGARCH_std\" = function(df, c, n, m) forecast_u_EVT_GARCH(df, c = c, n = n, m = m, t = 0.95, r = 50, model = \"gjrGARCH\", dist = \"std\"),\n",
    "  \"EVT_gjrGARCH_sstd\" = function(df, c, n, m) forecast_u_EVT_GARCH(df, c = c, n = n, m = m, t = 0.95, r = 50, model = \"gjrGARCH\", dist = \"sstd\"),\n",
    "  \"GAS_norm\" = function(df,c, n, m) forecast_u_GAS(df, c = c, n = n, m = m, r = 50, dist = \"norm\"),\n",
    "  \"GAS_std\" = function(df,c, n, m) forecast_u_GAS(df, c = c, n = n, m = m, r = 50, dist = \"std\"),\n",
    "  \"GAS_sstd\" = function(df,c, n, m) forecast_u_GAS(df, c = c, n = n, m = m, r = 50, dist = \"sstd\"),\n",
    "  \"CAViaR_ADAPTIVE_AR\" = function(df, c, n, m) forecast_u_CAViaR(df, c = c, n = n, m = m, r = 50, var_model = \"ADAPTIVE\", es_model = \"AR\"),\n",
    "  \"CAViaR_SAV_AR\" = function(df, c, n, m) forecast_u_CAViaR(df, c = c, n = n, m = m, r = 50, var_model = \"SAV\", es_model = \"AR\"),\n",
    "  \"CAViaR_AS_AR\" = function(df, c, n, m) forecast_u_CAViaR(df, c = c, n = n, m = m, r = 50, var_model = \"AS\", es_model = \"AR\"),\n",
    "  \"CAViaR_indirectGARCH_AR\" = function(df, c, n, m) forecast_u_CAViaR(df, c = c, n = n, m = m, r = 50, var_model = \"indirectGARCH\", es_model = \"AR\"),\n",
    "  \"CAViaR_ADAPTIVE_MULT\" = function(df, c, n, m) forecast_u_CAViaR(df, c = c, n = n, m = m, r = 50, var_model = \"ADAPTIVE\", es_model = \"MULT\"),\n",
    "  \"CAViaR_SAV_MULT\" = function(df, c, n, m) forecast_u_CAViaR(df, c = c, n = n, m = m, r = 50, var_model = \"SAV\", es_model = \"MULT\"),\n",
    "  \"CAViaR_AS_MULT\" = function(df, c, n, m) forecast_u_CAViaR(df, c = c, n = n, m = m, r = 50, var_model = \"AS\", es_model = \"MULT\"),\n",
    "  \"CAViaR_indirectGARCH_MULT\" = function(df, c, n, m) forecast_u_CAViaR(df, c = c, n = n, m = m, r = 50, var_model = \"indirectGARCH\", es_model = \"MULT\")\n",
    ")\n",
    "\n",
    "# Compute losses and backtests\n",
    "results <- compute_losses_and_backtests(df, models, c, n, m)\n",
    "\n",
    "# Access results\n",
    "losses <- results$losses\n",
    "backtests <- results$backtests\n",
    "predictions <- results$predictions\n",
    "\n",
    "c_percent <- as.integer(c * 100)\n",
    "\n",
    "# Save losses to CSV\n",
    "write.csv(losses, paste0(asset, \"_\", c_percent, \"_losses.csv\"), row.names = TRUE)\n",
    "\n",
    "# Save backtests to CSV\n",
    "write.csv(backtests, paste0(asset, \"_\", ac_percent, \"_backtests.csv\"), row.names = TRUE)\n",
    "\n",
    "# Save predictions to CSV\n",
    "write.csv(predictions, paste0(asset, \"_\", c_percent, \"_predictions.csv\"), row.names = TRUE)\n",
    "\n",
    "# Perform MCS Test and print results\n",
    "alpha <- 0.05\n",
    "losses <- losses[, colSums(is.na(losses)) < nrow(losses)]\n",
    "losses[is.na(losses)] <- 1e6\n",
    "mcs_results <- rugarch::mcsTest(losses, alpha = alpha, nboot = 500, boot = \"stationary\")\n",
    "print(colnames(losses))\n",
    "print(mcs_results)"
   ],
   "metadata": {
    "collapsed": false
   },
   "id": "b1cbf77f56b74aae",
   "execution_count": null
  },
  {
   "cell_type": "markdown",
   "source": [
    "### Historical Simulation"
   ],
   "metadata": {
    "collapsed": false
   },
   "id": "b32ae3d3a71116c0"
  },
  {
   "cell_type": "code",
   "outputs": [],
   "source": [
    "%%R\n",
    "source(hs_path)\n",
    "\n",
    "result <- forecast_u_HS(asset_df, c, n, m)\n",
    "\n",
    "var <- -result$VaR\n",
    "VaRplot(c, returns, var)"
   ],
   "metadata": {
    "collapsed": false
   },
   "id": "ea859d057883c225",
   "execution_count": null
  },
  {
   "cell_type": "code",
   "outputs": [],
   "source": [
    "%%R\n",
    "\n",
    "es <- -result$ES\n",
    "print(plot_var_es(dates, returns, var, es))"
   ],
   "metadata": {
    "collapsed": false
   },
   "id": "e9f31c9e5b10456c",
   "execution_count": null
  },
  {
   "cell_type": "code",
   "outputs": [],
   "source": [
    "%%R\n",
    "source(backtest_path)\n",
    "\n",
    "vol <- result$VOL\n",
    "run_backtests(returns, var, es, c, prefix = \"HS\")"
   ],
   "metadata": {
    "collapsed": false
   },
   "id": "12f5ae7c3b89c59b",
   "execution_count": null
  },
  {
   "cell_type": "markdown",
   "source": [
    "### Filtered Historical Simulation"
   ],
   "metadata": {
    "collapsed": false
   },
   "id": "e9a20d7bb3d83dba"
  },
  {
   "cell_type": "code",
   "outputs": [],
   "source": [
    "%%R\n",
    "\n",
    "result <- forecast_u_FHS_GARCH(asset_df, c, n, m, model = \"sGARCH\", dist = \"sstd\")\n",
    "\n",
    "var <- -result$VaR\n",
    "VaRplot(c, returns, var)"
   ],
   "metadata": {
    "collapsed": false
   },
   "id": "3fc10623c596b90d",
   "execution_count": null
  },
  {
   "cell_type": "code",
   "outputs": [],
   "source": [
    "%%R\n",
    "\n",
    "es <- -result$ES\n",
    "print(plot_var_es(dates, returns, var, es))"
   ],
   "metadata": {
    "collapsed": false
   },
   "id": "d533c7d431b42ca3",
   "execution_count": null
  },
  {
   "cell_type": "code",
   "outputs": [],
   "source": [
    "%%R\n",
    "source(backtest_path)\n",
    "\n",
    "vol <- result$VOL\n",
    "run_backtests(returns, var, es, c, VOL = vol, prefix = \"FHS\")"
   ],
   "metadata": {
    "collapsed": false
   },
   "id": "8be8c71aeb35431a",
   "execution_count": null
  },
  {
   "cell_type": "markdown",
   "source": [
    "### GARCH"
   ],
   "metadata": {
    "collapsed": false
   },
   "id": "1b4c9d47c81ee6a3"
  },
  {
   "cell_type": "code",
   "outputs": [],
   "source": [
    "%%R\n",
    "source(garch_path)\n",
    "\n",
    "result <- forecast_u_GARCH(asset_df, c, n, m, r = 50, model = \"gjrGARCH\", dist = \"norm\", solver = \"hybrid\", solver.control = list(trace = 0))\n",
    "\n",
    "var <- -result$VaR\n",
    "VaRplot(c, returns, var)"
   ],
   "metadata": {
    "collapsed": false
   },
   "id": "4709527191d428",
   "execution_count": null
  },
  {
   "cell_type": "code",
   "outputs": [],
   "source": [
    "%%R\n",
    "\n",
    "es <- -result$ES\n",
    "print(plot_var_es(dates, returns, var, es))"
   ],
   "metadata": {
    "collapsed": false
   },
   "id": "2668538ca80c3808",
   "execution_count": null
  },
  {
   "cell_type": "code",
   "outputs": [],
   "source": [
    "%%R\n",
    "source(backtest_path)\n",
    "\n",
    "vol <- result$VOL\n",
    "run_backtests(returns, var, es, c, VOL = vol, prefix = \"sGARCH\")"
   ],
   "metadata": {
    "collapsed": false
   },
   "id": "c8cca40a196683ef",
   "execution_count": null
  },
  {
   "cell_type": "markdown",
   "source": [
    "### Generalized Autoregressive Score"
   ],
   "metadata": {
    "collapsed": false
   },
   "id": "e6e926f7be625ad4"
  },
  {
   "cell_type": "code",
   "outputs": [],
   "source": [
    "%%R\n",
    "source(gas_path)\n",
    "\n",
    "result <- forecast_u_GAS(asset_df, c, n, m, r = 1, dist = \"std\")\n",
    "\n",
    "var <- -result$VaR\n",
    "VaRplot(c, returns, var)"
   ],
   "metadata": {
    "collapsed": false
   },
   "id": "538977d433263672",
   "execution_count": null
  },
  {
   "cell_type": "code",
   "outputs": [],
   "source": [
    "%%R\n",
    "\n",
    "es <- -result$ES\n",
    "print(plot_var_es(dates, returns, var, es))"
   ],
   "metadata": {
    "collapsed": false
   },
   "id": "ea540ac03ea4d934",
   "execution_count": null
  },
  {
   "cell_type": "code",
   "outputs": [],
   "source": [
    "%%R\n",
    "source(backtest_path)\n",
    "\n",
    "vol <- result$VOL\n",
    "print(run_backtests(returns, var, es, c, prefix = \"GAS\"))"
   ],
   "metadata": {
    "collapsed": false
   },
   "id": "65be47015c2c6fcb",
   "execution_count": null
  },
  {
   "cell_type": "markdown",
   "source": [
    "### EVT Hybrid GARCH"
   ],
   "metadata": {
    "collapsed": false
   },
   "id": "be27f96791e170ec"
  },
  {
   "cell_type": "code",
   "outputs": [],
   "source": [
    "%%R\n",
    "source(hybrid_evt_path)\n",
    "\n",
    "nn <- 300\n",
    "\n",
    "result <- forecast_u_EVT_GARCH(asset_df, 0.05, 300, m, r = 50, t = 0.9, model = \"gjrGARCH\", dist = \"norm\", solver = \"hybrid\", solver.control = list(trace = 0))\n",
    "\n",
    "print(result)\n",
    "\n",
    "returns_s <- tail(returns, 300)\n",
    "\n",
    "var <- -result$VaR\n",
    "print(var)\n",
    "VaRplot(c, returns_s, var)"
   ],
   "metadata": {
    "collapsed": false,
    "is_executing": true,
    "ExecuteTime": {
     "start_time": "2024-12-05T22:19:29.005067Z"
    }
   },
   "id": "55bfd06cdf96c5bf",
   "execution_count": null
  },
  {
   "cell_type": "code",
   "outputs": [],
   "source": [
    "%%R\n",
    "print(warnings())\n",
    "\n",
    "es <- -result$ES\n",
    "print(plot_var_es(dates, returns, var, es))"
   ],
   "metadata": {
    "collapsed": false
   },
   "id": "4ff46cd7ccc74cff",
   "execution_count": null
  },
  {
   "cell_type": "code",
   "outputs": [],
   "source": [
    "%%R\n",
    "source(backtest_path)\n",
    "\n",
    "vol <- result$VOL\n",
    "run_backtests(returns, var, es, c, VOL = vol, prefix = \"EVT_GARCH\")"
   ],
   "metadata": {
    "collapsed": false
   },
   "id": "944ecc4d9ae8397e",
   "execution_count": null
  },
  {
   "cell_type": "markdown",
   "source": [
    "### CAViaR"
   ],
   "metadata": {
    "collapsed": false
   },
   "id": "6eac166c04b516fc"
  },
  {
   "cell_type": "code",
   "outputs": [],
   "source": [
    "%%R\n",
    "library(caviar)\n",
    "# source(caviar_path)\n",
    "\n",
    "result <- forecast_u_CAViaR(asset_asset_df, c, n, m, r = 10, var_model = \"indirectGARCH\", es_model=\"AR\", itermax = 250)\n",
    "\n",
    "var <- -result$VaR\n",
    "VaRplot(c, returns, var)"
   ],
   "metadata": {
    "collapsed": false
   },
   "id": "10c252000bd46fa2",
   "execution_count": null
  },
  {
   "cell_type": "code",
   "outputs": [],
   "source": [
    "%%R\n",
    "\n",
    "es <- -result$ES\n",
    "print(plot_var_es(dates, returns, var, es))\n",
    "print(var - es)"
   ],
   "metadata": {
    "collapsed": false
   },
   "id": "1f4ef114d36804f6",
   "execution_count": null
  },
  {
   "cell_type": "code",
   "outputs": [],
   "source": [
    "%%R\n",
    "source(backtest_path)\n",
    "\n",
    "vol <- result$VOL\n",
    "run_backtests(returns, var, es, c, prefix = \"CAVIAR\")"
   ],
   "metadata": {
    "collapsed": false
   },
   "id": "a0a09ddaf521f2cb",
   "execution_count": null
  }
 ],
 "metadata": {
  "kernelspec": {
   "name": "python3",
   "language": "python",
   "display_name": "Python 3 (ipykernel)"
  },
  "language_info": {
   "codemirror_mode": {
    "name": "ipython",
    "version": 2
   },
   "file_extension": ".py",
   "mimetype": "text/x-python",
   "name": "python",
   "nbconvert_exporter": "python",
   "pygments_lexer": "ipython2",
   "version": "2.7.6"
  }
 },
 "nbformat": 4,
 "nbformat_minor": 5
}
